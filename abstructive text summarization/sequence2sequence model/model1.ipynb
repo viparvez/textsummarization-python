{
  "nbformat": 4,
  "nbformat_minor": 0,
  "metadata": {
    "colab": {
      "name": "Copy of model1.ipynb",
      "provenance": []
    },
    "kernelspec": {
      "name": "python3",
      "display_name": "Python 3"
    },
    "accelerator": "GPU"
  },
  "cells": [
    {
      "cell_type": "code",
      "metadata": {
        "id": "WpDnHblJmbu1",
        "colab_type": "code",
        "outputId": "566d9be9-9adc-4251-8bac-85582c91323b",
        "colab": {
          "base_uri": "https://localhost:8080/",
          "height": 122
        }
      },
      "source": [
        "from google.colab import drive\n",
        "\n",
        "drive.mount('/content/gdrive')"
      ],
      "execution_count": 0,
      "outputs": [
        {
          "output_type": "stream",
          "text": [
            "Go to this URL in a browser: https://accounts.google.com/o/oauth2/auth?client_id=947318989803-6bn6qk8qdgf4n4g3pfee6491hc0brc4i.apps.googleusercontent.com&redirect_uri=urn%3aietf%3awg%3aoauth%3a2.0%3aoob&response_type=code&scope=email%20https%3a%2f%2fwww.googleapis.com%2fauth%2fdocs.test%20https%3a%2f%2fwww.googleapis.com%2fauth%2fdrive%20https%3a%2f%2fwww.googleapis.com%2fauth%2fdrive.photos.readonly%20https%3a%2f%2fwww.googleapis.com%2fauth%2fpeopleapi.readonly\n",
            "\n",
            "Enter your authorization code:\n",
            "··········\n",
            "Mounted at /content/gdrive\n"
          ],
          "name": "stdout"
        }
      ]
    },
    {
      "cell_type": "code",
      "metadata": {
        "id": "oNhprg7KrRm-",
        "colab_type": "code",
        "outputId": "7961c3c2-dd37-4177-ac7b-e5b2940c9f80",
        "colab": {
          "base_uri": "https://localhost:8080/",
          "height": 63
        }
      },
      "source": [
        "import pandas as pd\n",
        "import numpy as np\n",
        "import tensorflow as tf\n",
        "import re\n",
        "from nltk.corpus import stopwords\n",
        "import time\n",
        "from tensorflow.python.layers.core import Dense\n",
        "from tensorflow.python.ops.rnn_cell_impl import _zero_state_tensors"
      ],
      "execution_count": 0,
      "outputs": [
        {
          "output_type": "display_data",
          "data": {
            "text/html": [
              "<p style=\"color: red;\">\n",
              "The default version of TensorFlow in Colab will soon switch to TensorFlow 2.x.<br>\n",
              "We recommend you <a href=\"https://www.tensorflow.org/guide/migrate\" target=\"_blank\">upgrade</a> now \n",
              "or ensure your notebook will continue to use TensorFlow 1.x via the <code>%tensorflow_version 1.x</code> magic:\n",
              "<a href=\"https://colab.research.google.com/notebooks/tensorflow_version.ipynb\" target=\"_blank\">more info</a>.</p>\n"
            ],
            "text/plain": [
              "<IPython.core.display.HTML object>"
            ]
          },
          "metadata": {
            "tags": []
          }
        }
      ]
    },
    {
      "cell_type": "code",
      "metadata": {
        "id": "irw7LcGirYo5",
        "colab_type": "code",
        "outputId": "107d5093-2754-4e37-97ac-2d360865d4fb",
        "colab": {
          "base_uri": "https://localhost:8080/",
          "height": 34
        }
      },
      "source": [
        "print('TensorFlow Version: {}'.format(tf.__version__))"
      ],
      "execution_count": 0,
      "outputs": [
        {
          "output_type": "stream",
          "text": [
            "TensorFlow Version: 1.15.0\n"
          ],
          "name": "stdout"
        }
      ]
    },
    {
      "cell_type": "code",
      "metadata": {
        "id": "0buP3DZXrcid",
        "colab_type": "code",
        "outputId": "7022c279-e361-4728-b6ec-13b0fb5ed4d7",
        "colab": {
          "base_uri": "https://localhost:8080/",
          "height": 34
        }
      },
      "source": [
        "device_name = tf.test.gpu_device_name()\n",
        "if device_name != '/device:GPU:0':\n",
        "  raise SystemError('GPU device not found')\n",
        "print('Found GPU at: {}'.format(device_name))"
      ],
      "execution_count": 0,
      "outputs": [
        {
          "output_type": "stream",
          "text": [
            "Found GPU at: /device:GPU:0\n"
          ],
          "name": "stdout"
        }
      ]
    },
    {
      "cell_type": "code",
      "metadata": {
        "id": "0Rc_x7aQ0wbT",
        "colab_type": "code",
        "colab": {}
      },
      "source": [
        "root_path = 'gdrive/My Drive/Colab Notebooks/'"
      ],
      "execution_count": 0,
      "outputs": []
    },
    {
      "cell_type": "code",
      "metadata": {
        "id": "8HXGCEOG1kWW",
        "colab_type": "code",
        "colab": {}
      },
      "source": [
        "from google.colab import files"
      ],
      "execution_count": 0,
      "outputs": []
    },
    {
      "cell_type": "code",
      "metadata": {
        "id": "kzV6P2lk10LP",
        "colab_type": "code",
        "outputId": "73715202-e144-4d20-81a7-875f755dac3d",
        "colab": {
          "resources": {
            "http://localhost:8080/nbextensions/google.colab/files.js": {
              "data": "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",
              "ok": true,
              "headers": [
                [
                  "content-type",
                  "application/javascript"
                ]
              ],
              "status": 200,
              "status_text": ""
            }
          },
          "base_uri": "https://localhost:8080/",
          "height": 91
        }
      },
      "source": [
        "files.upload()"
      ],
      "execution_count": 0,
      "outputs": [
        {
          "output_type": "display_data",
          "data": {
            "text/html": [
              "\n",
              "     <input type=\"file\" id=\"files-12644c2c-7691-43b8-9a54-8eba08c5c624\" name=\"files[]\" multiple disabled />\n",
              "     <output id=\"result-12644c2c-7691-43b8-9a54-8eba08c5c624\">\n",
              "      Upload widget is only available when the cell has been executed in the\n",
              "      current browser session. Please rerun this cell to enable.\n",
              "      </output>\n",
              "      <script src=\"/nbextensions/google.colab/files.js\"></script> "
            ],
            "text/plain": [
              "<IPython.core.display.HTML object>"
            ]
          },
          "metadata": {
            "tags": []
          }
        },
        {
          "output_type": "stream",
          "text": [
            "Saving kaggle.json to kaggle.json\n"
          ],
          "name": "stdout"
        },
        {
          "output_type": "execute_result",
          "data": {
            "text/plain": [
              "{'kaggle.json': b'{\"username\":\"sirajummonirparvez\",\"key\":\"48ed53e0bad44498a6b3fb7d157277bd\"}'}"
            ]
          },
          "metadata": {
            "tags": []
          },
          "execution_count": 11
        }
      ]
    },
    {
      "cell_type": "code",
      "metadata": {
        "id": "dBSDmm4A2H6d",
        "colab_type": "code",
        "colab": {}
      },
      "source": [
        "!pip install -q kaggle"
      ],
      "execution_count": 0,
      "outputs": []
    },
    {
      "cell_type": "code",
      "metadata": {
        "id": "Pi99szrP2Itj",
        "colab_type": "code",
        "outputId": "14628820-6bfd-4aa9-9603-3f9bdc1457c6",
        "colab": {
          "base_uri": "https://localhost:8080/",
          "height": 34
        }
      },
      "source": [
        "!mkdir -p ~/.kaggle\n",
        "!cp kaggle.json ~/.kaggle/\n",
        "!ls ~/.kaggle\n",
        "!chmod 600 /root/.kaggle/kaggle.json  # set permission"
      ],
      "execution_count": 0,
      "outputs": [
        {
          "output_type": "stream",
          "text": [
            "kaggle.json\n"
          ],
          "name": "stdout"
        }
      ]
    },
    {
      "cell_type": "code",
      "metadata": {
        "id": "41Eez5aP38Qp",
        "colab_type": "code",
        "colab": {}
      },
      "source": [
        "reviews = pd.read_csv(\"gdrive/My Drive/Colab Notebooks/Reviews.csv\")"
      ],
      "execution_count": 0,
      "outputs": []
    },
    {
      "cell_type": "code",
      "metadata": {
        "id": "9Tm0hiN_4KsG",
        "colab_type": "code",
        "outputId": "fd0bd50e-95a2-455c-dcc4-7d9993b1ff6c",
        "colab": {
          "base_uri": "https://localhost:8080/",
          "height": 34
        }
      },
      "source": [
        "reviews.shape"
      ],
      "execution_count": 0,
      "outputs": [
        {
          "output_type": "execute_result",
          "data": {
            "text/plain": [
              "(568454, 10)"
            ]
          },
          "metadata": {
            "tags": []
          },
          "execution_count": 16
        }
      ]
    },
    {
      "cell_type": "code",
      "metadata": {
        "id": "by7Ltc-x4O9t",
        "colab_type": "code",
        "outputId": "78f76eae-e8f6-4471-de56-4fa26d66ea83",
        "colab": {
          "base_uri": "https://localhost:8080/",
          "height": 272
        }
      },
      "source": [
        "reviews.head()"
      ],
      "execution_count": 0,
      "outputs": [
        {
          "output_type": "execute_result",
          "data": {
            "text/html": [
              "<div>\n",
              "<style scoped>\n",
              "    .dataframe tbody tr th:only-of-type {\n",
              "        vertical-align: middle;\n",
              "    }\n",
              "\n",
              "    .dataframe tbody tr th {\n",
              "        vertical-align: top;\n",
              "    }\n",
              "\n",
              "    .dataframe thead th {\n",
              "        text-align: right;\n",
              "    }\n",
              "</style>\n",
              "<table border=\"1\" class=\"dataframe\">\n",
              "  <thead>\n",
              "    <tr style=\"text-align: right;\">\n",
              "      <th></th>\n",
              "      <th>Id</th>\n",
              "      <th>ProductId</th>\n",
              "      <th>UserId</th>\n",
              "      <th>ProfileName</th>\n",
              "      <th>HelpfulnessNumerator</th>\n",
              "      <th>HelpfulnessDenominator</th>\n",
              "      <th>Score</th>\n",
              "      <th>Time</th>\n",
              "      <th>Summary</th>\n",
              "      <th>Text</th>\n",
              "    </tr>\n",
              "  </thead>\n",
              "  <tbody>\n",
              "    <tr>\n",
              "      <th>0</th>\n",
              "      <td>1</td>\n",
              "      <td>B001E4KFG0</td>\n",
              "      <td>A3SGXH7AUHU8GW</td>\n",
              "      <td>delmartian</td>\n",
              "      <td>1</td>\n",
              "      <td>1</td>\n",
              "      <td>5</td>\n",
              "      <td>1303862400</td>\n",
              "      <td>Good Quality Dog Food</td>\n",
              "      <td>I have bought several of the Vitality canned d...</td>\n",
              "    </tr>\n",
              "    <tr>\n",
              "      <th>1</th>\n",
              "      <td>2</td>\n",
              "      <td>B00813GRG4</td>\n",
              "      <td>A1D87F6ZCVE5NK</td>\n",
              "      <td>dll pa</td>\n",
              "      <td>0</td>\n",
              "      <td>0</td>\n",
              "      <td>1</td>\n",
              "      <td>1346976000</td>\n",
              "      <td>Not as Advertised</td>\n",
              "      <td>Product arrived labeled as Jumbo Salted Peanut...</td>\n",
              "    </tr>\n",
              "    <tr>\n",
              "      <th>2</th>\n",
              "      <td>3</td>\n",
              "      <td>B000LQOCH0</td>\n",
              "      <td>ABXLMWJIXXAIN</td>\n",
              "      <td>Natalia Corres \"Natalia Corres\"</td>\n",
              "      <td>1</td>\n",
              "      <td>1</td>\n",
              "      <td>4</td>\n",
              "      <td>1219017600</td>\n",
              "      <td>\"Delight\" says it all</td>\n",
              "      <td>This is a confection that has been around a fe...</td>\n",
              "    </tr>\n",
              "    <tr>\n",
              "      <th>3</th>\n",
              "      <td>4</td>\n",
              "      <td>B000UA0QIQ</td>\n",
              "      <td>A395BORC6FGVXV</td>\n",
              "      <td>Karl</td>\n",
              "      <td>3</td>\n",
              "      <td>3</td>\n",
              "      <td>2</td>\n",
              "      <td>1307923200</td>\n",
              "      <td>Cough Medicine</td>\n",
              "      <td>If you are looking for the secret ingredient i...</td>\n",
              "    </tr>\n",
              "    <tr>\n",
              "      <th>4</th>\n",
              "      <td>5</td>\n",
              "      <td>B006K2ZZ7K</td>\n",
              "      <td>A1UQRSCLF8GW1T</td>\n",
              "      <td>Michael D. Bigham \"M. Wassir\"</td>\n",
              "      <td>0</td>\n",
              "      <td>0</td>\n",
              "      <td>5</td>\n",
              "      <td>1350777600</td>\n",
              "      <td>Great taffy</td>\n",
              "      <td>Great taffy at a great price.  There was a wid...</td>\n",
              "    </tr>\n",
              "  </tbody>\n",
              "</table>\n",
              "</div>"
            ],
            "text/plain": [
              "   Id  ...                                               Text\n",
              "0   1  ...  I have bought several of the Vitality canned d...\n",
              "1   2  ...  Product arrived labeled as Jumbo Salted Peanut...\n",
              "2   3  ...  This is a confection that has been around a fe...\n",
              "3   4  ...  If you are looking for the secret ingredient i...\n",
              "4   5  ...  Great taffy at a great price.  There was a wid...\n",
              "\n",
              "[5 rows x 10 columns]"
            ]
          },
          "metadata": {
            "tags": []
          },
          "execution_count": 17
        }
      ]
    },
    {
      "cell_type": "code",
      "metadata": {
        "id": "2rwgiQht4Rq3",
        "colab_type": "code",
        "outputId": "87376c82-1838-4a89-e811-b47fa1aaeb8a",
        "colab": {
          "base_uri": "https://localhost:8080/",
          "height": 204
        }
      },
      "source": [
        "reviews.isnull().sum()"
      ],
      "execution_count": 0,
      "outputs": [
        {
          "output_type": "execute_result",
          "data": {
            "text/plain": [
              "Id                         0\n",
              "ProductId                  0\n",
              "UserId                     0\n",
              "ProfileName               16\n",
              "HelpfulnessNumerator       0\n",
              "HelpfulnessDenominator     0\n",
              "Score                      0\n",
              "Time                       0\n",
              "Summary                   27\n",
              "Text                       0\n",
              "dtype: int64"
            ]
          },
          "metadata": {
            "tags": []
          },
          "execution_count": 18
        }
      ]
    },
    {
      "cell_type": "code",
      "metadata": {
        "id": "iESJHAhl4iaI",
        "colab_type": "code",
        "colab": {}
      },
      "source": [
        "# Remove null values and unwanted features\n",
        "reviews = reviews.dropna()\n",
        "reviews = reviews.drop(['Id','ProductId','UserId','ProfileName','HelpfulnessNumerator','HelpfulnessDenominator','Score','Time'], 1)\n",
        "reviews = reviews.reset_index(drop=True)"
      ],
      "execution_count": 0,
      "outputs": []
    },
    {
      "cell_type": "code",
      "metadata": {
        "id": "4CngHCjx5J9w",
        "colab_type": "code",
        "outputId": "dd695469-99b0-4207-afcd-7e7f67595a15",
        "colab": {
          "base_uri": "https://localhost:8080/",
          "height": 204
        }
      },
      "source": [
        "reviews.head()"
      ],
      "execution_count": 0,
      "outputs": [
        {
          "output_type": "execute_result",
          "data": {
            "text/html": [
              "<div>\n",
              "<style scoped>\n",
              "    .dataframe tbody tr th:only-of-type {\n",
              "        vertical-align: middle;\n",
              "    }\n",
              "\n",
              "    .dataframe tbody tr th {\n",
              "        vertical-align: top;\n",
              "    }\n",
              "\n",
              "    .dataframe thead th {\n",
              "        text-align: right;\n",
              "    }\n",
              "</style>\n",
              "<table border=\"1\" class=\"dataframe\">\n",
              "  <thead>\n",
              "    <tr style=\"text-align: right;\">\n",
              "      <th></th>\n",
              "      <th>Summary</th>\n",
              "      <th>Text</th>\n",
              "    </tr>\n",
              "  </thead>\n",
              "  <tbody>\n",
              "    <tr>\n",
              "      <th>0</th>\n",
              "      <td>Good Quality Dog Food</td>\n",
              "      <td>I have bought several of the Vitality canned d...</td>\n",
              "    </tr>\n",
              "    <tr>\n",
              "      <th>1</th>\n",
              "      <td>Not as Advertised</td>\n",
              "      <td>Product arrived labeled as Jumbo Salted Peanut...</td>\n",
              "    </tr>\n",
              "    <tr>\n",
              "      <th>2</th>\n",
              "      <td>\"Delight\" says it all</td>\n",
              "      <td>This is a confection that has been around a fe...</td>\n",
              "    </tr>\n",
              "    <tr>\n",
              "      <th>3</th>\n",
              "      <td>Cough Medicine</td>\n",
              "      <td>If you are looking for the secret ingredient i...</td>\n",
              "    </tr>\n",
              "    <tr>\n",
              "      <th>4</th>\n",
              "      <td>Great taffy</td>\n",
              "      <td>Great taffy at a great price.  There was a wid...</td>\n",
              "    </tr>\n",
              "  </tbody>\n",
              "</table>\n",
              "</div>"
            ],
            "text/plain": [
              "                 Summary                                               Text\n",
              "0  Good Quality Dog Food  I have bought several of the Vitality canned d...\n",
              "1      Not as Advertised  Product arrived labeled as Jumbo Salted Peanut...\n",
              "2  \"Delight\" says it all  This is a confection that has been around a fe...\n",
              "3         Cough Medicine  If you are looking for the secret ingredient i...\n",
              "4            Great taffy  Great taffy at a great price.  There was a wid..."
            ]
          },
          "metadata": {
            "tags": []
          },
          "execution_count": 20
        }
      ]
    },
    {
      "cell_type": "code",
      "metadata": {
        "id": "004Vowyi5X2L",
        "colab_type": "code",
        "outputId": "ea656d09-7c0c-4665-a5be-94b5fa2be38e",
        "colab": {
          "base_uri": "https://localhost:8080/",
          "height": 377
        }
      },
      "source": [
        "# Inspecting some of the reviews\n",
        "for i in range(5):\n",
        "    print(\"Review #\",i+1)\n",
        "    print(reviews.Summary[i])\n",
        "    print(reviews.Text[i])\n",
        "    print()"
      ],
      "execution_count": 0,
      "outputs": [
        {
          "output_type": "stream",
          "text": [
            "Review # 1\n",
            "Good Quality Dog Food\n",
            "I have bought several of the Vitality canned dog food products and have found them all to be of good quality. The product looks more like a stew than a processed meat and it smells better. My Labrador is finicky and she appreciates this product better than  most.\n",
            "\n",
            "Review # 2\n",
            "Not as Advertised\n",
            "Product arrived labeled as Jumbo Salted Peanuts...the peanuts were actually small sized unsalted. Not sure if this was an error or if the vendor intended to represent the product as \"Jumbo\".\n",
            "\n",
            "Review # 3\n",
            "\"Delight\" says it all\n",
            "This is a confection that has been around a few centuries.  It is a light, pillowy citrus gelatin with nuts - in this case Filberts. And it is cut into tiny squares and then liberally coated with powdered sugar.  And it is a tiny mouthful of heaven.  Not too chewy, and very flavorful.  I highly recommend this yummy treat.  If you are familiar with the story of C.S. Lewis' \"The Lion, The Witch, and The Wardrobe\" - this is the treat that seduces Edmund into selling out his Brother and Sisters to the Witch.\n",
            "\n",
            "Review # 4\n",
            "Cough Medicine\n",
            "If you are looking for the secret ingredient in Robitussin I believe I have found it.  I got this in addition to the Root Beer Extract I ordered (which was good) and made some cherry soda.  The flavor is very medicinal.\n",
            "\n",
            "Review # 5\n",
            "Great taffy\n",
            "Great taffy at a great price.  There was a wide assortment of yummy taffy.  Delivery was very quick.  If your a taffy lover, this is a deal.\n",
            "\n"
          ],
          "name": "stdout"
        }
      ]
    },
    {
      "cell_type": "code",
      "metadata": {
        "id": "FQEVz9-e5x5L",
        "colab_type": "code",
        "colab": {}
      },
      "source": [
        "# A list of contractions from http://stackoverflow.com/questions/19790188/expanding-english-language-contractions-in-python\n",
        "contractions = { \n",
        "\"ain't\": \"am not\",\n",
        "\"aren't\": \"are not\",\n",
        "\"can't\": \"cannot\",\n",
        "\"can't've\": \"cannot have\",\n",
        "\"'cause\": \"because\",\n",
        "\"could've\": \"could have\",\n",
        "\"couldn't\": \"could not\",\n",
        "\"couldn't've\": \"could not have\",\n",
        "\"didn't\": \"did not\",\n",
        "\"doesn't\": \"does not\",\n",
        "\"don't\": \"do not\",\n",
        "\"hadn't\": \"had not\",\n",
        "\"hadn't've\": \"had not have\",\n",
        "\"hasn't\": \"has not\",\n",
        "\"haven't\": \"have not\",\n",
        "\"he'd\": \"he would\",\n",
        "\"he'd've\": \"he would have\",\n",
        "\"he'll\": \"he will\",\n",
        "\"he's\": \"he is\",\n",
        "\"how'd\": \"how did\",\n",
        "\"how'll\": \"how will\",\n",
        "\"how's\": \"how is\",\n",
        "\"i'd\": \"i would\",\n",
        "\"i'll\": \"i will\",\n",
        "\"i'm\": \"i am\",\n",
        "\"i've\": \"i have\",\n",
        "\"isn't\": \"is not\",\n",
        "\"it'd\": \"it would\",\n",
        "\"it'll\": \"it will\",\n",
        "\"it's\": \"it is\",\n",
        "\"let's\": \"let us\",\n",
        "\"ma'am\": \"madam\",\n",
        "\"mayn't\": \"may not\",\n",
        "\"might've\": \"might have\",\n",
        "\"mightn't\": \"might not\",\n",
        "\"must've\": \"must have\",\n",
        "\"mustn't\": \"must not\",\n",
        "\"needn't\": \"need not\",\n",
        "\"oughtn't\": \"ought not\",\n",
        "\"shan't\": \"shall not\",\n",
        "\"sha'n't\": \"shall not\",\n",
        "\"she'd\": \"she would\",\n",
        "\"she'll\": \"she will\",\n",
        "\"she's\": \"she is\",\n",
        "\"should've\": \"should have\",\n",
        "\"shouldn't\": \"should not\",\n",
        "\"that'd\": \"that would\",\n",
        "\"that's\": \"that is\",\n",
        "\"there'd\": \"there had\",\n",
        "\"there's\": \"there is\",\n",
        "\"they'd\": \"they would\",\n",
        "\"they'll\": \"they will\",\n",
        "\"they're\": \"they are\",\n",
        "\"they've\": \"they have\",\n",
        "\"wasn't\": \"was not\",\n",
        "\"we'd\": \"we would\",\n",
        "\"we'll\": \"we will\",\n",
        "\"we're\": \"we are\",\n",
        "\"we've\": \"we have\",\n",
        "\"weren't\": \"were not\",\n",
        "\"what'll\": \"what will\",\n",
        "\"what're\": \"what are\",\n",
        "\"what's\": \"what is\",\n",
        "\"what've\": \"what have\",\n",
        "\"where'd\": \"where did\",\n",
        "\"where's\": \"where is\",\n",
        "\"who'll\": \"who will\",\n",
        "\"who's\": \"who is\",\n",
        "\"won't\": \"will not\",\n",
        "\"wouldn't\": \"would not\",\n",
        "\"you'd\": \"you would\",\n",
        "\"you'll\": \"you will\",\n",
        "\"you're\": \"you are\"\n",
        "}"
      ],
      "execution_count": 0,
      "outputs": []
    },
    {
      "cell_type": "code",
      "metadata": {
        "id": "jZzB5Esq7WGw",
        "colab_type": "code",
        "colab": {}
      },
      "source": [
        "def clean_text(text, remove_stopwords = True):\n",
        "    '''Remove unwanted characters, stopwords, and format the text to create fewer nulls word embeddings'''\n",
        "    \n",
        "    # Convert words to lower case\n",
        "    text = text.lower()\n",
        "    \n",
        "    # Replace contractions with their longer forms \n",
        "    if True:\n",
        "        text = text.split()\n",
        "        new_text = []\n",
        "        for word in text:\n",
        "            if word in contractions:\n",
        "                new_text.append(contractions[word])\n",
        "            else:\n",
        "                new_text.append(word)\n",
        "        text = \" \".join(new_text)\n",
        "    \n",
        "    # Format words and remove unwanted characters\n",
        "    text = re.sub(r'https?:\\/\\/.*[\\r\\n]*', '', text, flags=re.MULTILINE)\n",
        "    text = re.sub(r'\\<a href', ' ', text)\n",
        "    text = re.sub(r'&amp;', '', text) \n",
        "    text = re.sub(r'[_\"\\-;%()|+&=*%.,!?:#$@\\[\\]/]', ' ', text)\n",
        "    text = re.sub(r'<br />', ' ', text)\n",
        "    text = re.sub(r'\\'', ' ', text)\n",
        "    \n",
        "    # Optionally, remove stop words\n",
        "    if remove_stopwords:\n",
        "        text = text.split()\n",
        "        stops = set(stopwords.words(\"english\"))\n",
        "        text = [w for w in text if not w in stops]\n",
        "        text = \" \".join(text)\n",
        "\n",
        "    return text"
      ],
      "execution_count": 0,
      "outputs": []
    },
    {
      "cell_type": "code",
      "metadata": {
        "id": "IHwpCB9A7mol",
        "colab_type": "code",
        "outputId": "6b1e524b-cd57-4f00-fd2e-d64a6d267dff",
        "colab": {
          "base_uri": "https://localhost:8080/",
          "height": 85
        }
      },
      "source": [
        "import nltk\n",
        "nltk.download('stopwords')\n",
        "  \n",
        "# Clean the summaries and texts\n",
        "clean_summaries = []\n",
        "for summary in reviews.Summary:\n",
        "    clean_summaries.append(clean_text(summary, remove_stopwords=False))\n",
        "print(\"Summaries are complete.\")\n",
        "\n",
        "clean_texts = []\n",
        "for text in reviews.Text:\n",
        "    clean_texts.append(clean_text(text))\n",
        "print(\"Texts are complete.\")"
      ],
      "execution_count": 0,
      "outputs": [
        {
          "output_type": "stream",
          "text": [
            "[nltk_data] Downloading package stopwords to /root/nltk_data...\n",
            "[nltk_data]   Unzipping corpora/stopwords.zip.\n",
            "Summaries are complete.\n",
            "Texts are complete.\n"
          ],
          "name": "stdout"
        }
      ]
    },
    {
      "cell_type": "code",
      "metadata": {
        "id": "rpGSssQR8BLl",
        "colab_type": "code",
        "outputId": "70e19313-c72f-4982-f226-a622230a5a10",
        "colab": {
          "base_uri": "https://localhost:8080/",
          "height": 377
        }
      },
      "source": [
        "# Inspect the cleaned summaries and texts to ensure they have been cleaned well\n",
        "for i in range(5):\n",
        "    print(\"Clean Review #\",i+1)\n",
        "    print(clean_summaries[i])\n",
        "    print(clean_texts[i])\n",
        "    print()"
      ],
      "execution_count": 0,
      "outputs": [
        {
          "output_type": "stream",
          "text": [
            "Clean Review # 1\n",
            "good quality dog food\n",
            "bought several vitality canned dog food products found good quality product looks like stew processed meat smells better labrador finicky appreciates product better\n",
            "\n",
            "Clean Review # 2\n",
            "not as advertised\n",
            "product arrived labeled jumbo salted peanuts peanuts actually small sized unsalted sure error vendor intended represent product jumbo\n",
            "\n",
            "Clean Review # 3\n",
            " delight  says it all\n",
            "confection around centuries light pillowy citrus gelatin nuts case filberts cut tiny squares liberally coated powdered sugar tiny mouthful heaven chewy flavorful highly recommend yummy treat familiar story c lewis lion witch wardrobe treat seduces edmund selling brother sisters witch\n",
            "\n",
            "Clean Review # 4\n",
            "cough medicine\n",
            "looking secret ingredient robitussin believe found got addition root beer extract ordered good made cherry soda flavor medicinal\n",
            "\n",
            "Clean Review # 5\n",
            "great taffy\n",
            "great taffy great price wide assortment yummy taffy delivery quick taffy lover deal\n",
            "\n"
          ],
          "name": "stdout"
        }
      ]
    },
    {
      "cell_type": "code",
      "metadata": {
        "id": "az-R1xQ-IF6E",
        "colab_type": "code",
        "colab": {}
      },
      "source": [
        "def count_words(count_dict, text):\n",
        "    '''Count the number of occurrences of each word in a set of text'''\n",
        "    for sentence in text:\n",
        "        for word in sentence.split():\n",
        "            if word not in count_dict:\n",
        "                count_dict[word] = 1\n",
        "            else:\n",
        "                count_dict[word] += 1"
      ],
      "execution_count": 0,
      "outputs": []
    },
    {
      "cell_type": "code",
      "metadata": {
        "id": "6GQNPmWqIHg1",
        "colab_type": "code",
        "outputId": "fd9a4e94-6930-4dc3-8e05-4f36093476e8",
        "colab": {
          "base_uri": "https://localhost:8080/",
          "height": 34
        }
      },
      "source": [
        "# Find the number of times each word was used and the size of the vocabulary\n",
        "word_counts = {}\n",
        "\n",
        "count_words(word_counts, clean_summaries)\n",
        "count_words(word_counts, clean_texts)\n",
        "            \n",
        "print(\"Size of Vocabulary:\", len(word_counts))"
      ],
      "execution_count": 0,
      "outputs": [
        {
          "output_type": "stream",
          "text": [
            "Size of Vocabulary: 132884\n"
          ],
          "name": "stdout"
        }
      ]
    },
    {
      "cell_type": "code",
      "metadata": {
        "id": "vKUoHmam5RVA",
        "colab_type": "code",
        "outputId": "e6682962-1c31-4416-9a8c-080f476c6608",
        "colab": {
          "base_uri": "https://localhost:8080/",
          "height": 34
        }
      },
      "source": [
        "# Load Conceptnet Numberbatch's (CN) embeddings, similar to GloVe, but probably better \n",
        "# (https://github.com/commonsense/conceptnet-numberbatch)\n",
        "embeddings_index = {}\n",
        "with open('gdrive/My Drive/Colab Notebooks/Menu/Data/numberbatch-en.txt', encoding='utf-8') as f:\n",
        "    for line in f:\n",
        "        values = line.split(' ')\n",
        "        word = values[0]\n",
        "        embedding = np.asarray(values[1:], dtype='float32')\n",
        "        embeddings_index[word] = embedding\n",
        "\n",
        "print('Word embeddings:', len(embeddings_index))"
      ],
      "execution_count": 0,
      "outputs": [
        {
          "output_type": "stream",
          "text": [
            "Word embeddings: 516783\n"
          ],
          "name": "stdout"
        }
      ]
    },
    {
      "cell_type": "code",
      "metadata": {
        "id": "CNCmys7en4S1",
        "colab_type": "code",
        "outputId": "b39726af-d8af-4110-e214-d3ed4d1cc529",
        "colab": {
          "base_uri": "https://localhost:8080/",
          "height": 51
        }
      },
      "source": [
        "# Find the number of words that are missing from CN, and are used more than our threshold.\n",
        "missing_words = 0\n",
        "threshold = 20\n",
        "\n",
        "for word, count in word_counts.items():\n",
        "    if count > threshold:\n",
        "        if word not in embeddings_index:\n",
        "            missing_words += 1\n",
        "            \n",
        "missing_ratio = round(missing_words/len(word_counts),4)*100\n",
        "            \n",
        "print(\"Number of words missing from CN:\", missing_words)\n",
        "print(\"Percent of words that are missing from vocabulary: {}%\".format(missing_ratio))"
      ],
      "execution_count": 0,
      "outputs": [
        {
          "output_type": "stream",
          "text": [
            "Number of words missing from CN: 3845\n",
            "Percent of words that are missing from vocabulary: 2.8899999999999997%\n"
          ],
          "name": "stdout"
        }
      ]
    },
    {
      "cell_type": "code",
      "metadata": {
        "id": "-Zy6s2MXn8IW",
        "colab_type": "code",
        "outputId": "2258c5e3-e789-4072-b327-d1c9390fef49",
        "colab": {
          "base_uri": "https://localhost:8080/",
          "height": 68
        }
      },
      "source": [
        "# Limit the vocab that we will use to words that appear ≥ threshold or are in GloVe\n",
        "\n",
        "#dictionary to convert words to integers\n",
        "vocab_to_int = {} \n",
        "\n",
        "value = 0\n",
        "for word, count in word_counts.items():\n",
        "    if count >= threshold or word in embeddings_index:\n",
        "        vocab_to_int[word] = value\n",
        "        value += 1\n",
        "\n",
        "# Special tokens that will be added to our vocab\n",
        "codes = [\"<UNK>\",\"<PAD>\",\"<EOS>\",\"<GO>\"]   \n",
        "\n",
        "# Add codes to vocab\n",
        "for code in codes:\n",
        "    vocab_to_int[code] = len(vocab_to_int)\n",
        "\n",
        "# Dictionary to convert integers to words\n",
        "int_to_vocab = {}\n",
        "for word, value in vocab_to_int.items():\n",
        "    int_to_vocab[value] = word\n",
        "\n",
        "usage_ratio = round(len(vocab_to_int) / len(word_counts),4)*100\n",
        "\n",
        "print(\"Total number of unique words:\", len(word_counts))\n",
        "print(\"Number of words we will use:\", len(vocab_to_int))\n",
        "print(\"Percent of words we will use: {}%\".format(usage_ratio))"
      ],
      "execution_count": 0,
      "outputs": [
        {
          "output_type": "stream",
          "text": [
            "Total number of unique words: 132884\n",
            "Number of words we will use: 60433\n",
            "Percent of words we will use: 45.48%\n"
          ],
          "name": "stdout"
        }
      ]
    },
    {
      "cell_type": "code",
      "metadata": {
        "id": "RINwmpB3oBgX",
        "colab_type": "code",
        "outputId": "17bc2854-3c9f-4d04-8b8b-527b09eb62b5",
        "colab": {
          "base_uri": "https://localhost:8080/",
          "height": 34
        }
      },
      "source": [
        "# Need to use 300 for embedding dimensions to match CN's vectors.\n",
        "embedding_dim = 300\n",
        "nb_words = len(vocab_to_int)\n",
        "\n",
        "# Create matrix with default values of zero\n",
        "word_embedding_matrix = np.zeros((nb_words, embedding_dim), dtype=np.float32)\n",
        "for word, i in vocab_to_int.items():\n",
        "    if word in embeddings_index:\n",
        "        word_embedding_matrix[i] = embeddings_index[word]\n",
        "    else:\n",
        "        # If word not in CN, create a random embedding for it\n",
        "        new_embedding = np.array(np.random.uniform(-1.0, 1.0, embedding_dim))\n",
        "        embeddings_index[word] = new_embedding\n",
        "        word_embedding_matrix[i] = new_embedding\n",
        "\n",
        "# Check if value matches len(vocab_to_int)\n",
        "print(len(word_embedding_matrix))"
      ],
      "execution_count": 0,
      "outputs": [
        {
          "output_type": "stream",
          "text": [
            "60433\n"
          ],
          "name": "stdout"
        }
      ]
    },
    {
      "cell_type": "code",
      "metadata": {
        "id": "5t7FWLmUoFyB",
        "colab_type": "code",
        "colab": {}
      },
      "source": [
        "def convert_to_ints(text, word_count, unk_count, eos=False):\n",
        "    '''Convert words in text to an integer.\n",
        "       If word is not in vocab_to_int, use UNK's integer.\n",
        "       Total the number of words and UNKs.\n",
        "       Add EOS token to the end of texts'''\n",
        "    ints = []\n",
        "    for sentence in text:\n",
        "        sentence_ints = []\n",
        "        for word in sentence.split():\n",
        "            word_count += 1\n",
        "            if word in vocab_to_int:\n",
        "                sentence_ints.append(vocab_to_int[word])\n",
        "            else:\n",
        "                sentence_ints.append(vocab_to_int[\"<UNK>\"])\n",
        "                unk_count += 1\n",
        "        if eos:\n",
        "            sentence_ints.append(vocab_to_int[\"<EOS>\"])\n",
        "        ints.append(sentence_ints)\n",
        "    return ints, word_count, unk_count"
      ],
      "execution_count": 0,
      "outputs": []
    },
    {
      "cell_type": "code",
      "metadata": {
        "id": "dwJ0gA_noJWZ",
        "colab_type": "code",
        "outputId": "8afcfa40-fd4e-4965-d10d-426b1a919df1",
        "colab": {
          "base_uri": "https://localhost:8080/",
          "height": 68
        }
      },
      "source": [
        "# Apply convert_to_ints to clean_summaries and clean_texts\n",
        "word_count = 0\n",
        "unk_count = 0\n",
        "\n",
        "int_summaries, word_count, unk_count = convert_to_ints(clean_summaries, word_count, unk_count)\n",
        "int_texts, word_count, unk_count = convert_to_ints(clean_texts, word_count, unk_count, eos=True)\n",
        "\n",
        "unk_percent = round(unk_count/word_count,4)*100\n",
        "\n",
        "print(\"Total number of words in headlines:\", word_count)\n",
        "print(\"Total number of UNKs in headlines:\", unk_count)\n",
        "print(\"Percent of words that are UNK: {}%\".format(unk_percent))"
      ],
      "execution_count": 0,
      "outputs": [
        {
          "output_type": "stream",
          "text": [
            "Total number of words in headlines: 25679933\n",
            "Total number of UNKs in headlines: 189830\n",
            "Percent of words that are UNK: 0.74%\n"
          ],
          "name": "stdout"
        }
      ]
    },
    {
      "cell_type": "code",
      "metadata": {
        "id": "2DasR0ILoN0o",
        "colab_type": "code",
        "colab": {}
      },
      "source": [
        "def create_lengths(text):\n",
        "    '''Create a data frame of the sentence lengths from a text'''\n",
        "    lengths = []\n",
        "    for sentence in text:\n",
        "        lengths.append(len(sentence))\n",
        "    return pd.DataFrame(lengths, columns=['counts'])"
      ],
      "execution_count": 0,
      "outputs": []
    },
    {
      "cell_type": "code",
      "metadata": {
        "id": "mX98Vt11oRbL",
        "colab_type": "code",
        "outputId": "65df676f-ad11-4672-d669-aaf45b9e99ee",
        "colab": {
          "base_uri": "https://localhost:8080/",
          "height": 374
        }
      },
      "source": [
        "lengths_summaries = create_lengths(int_summaries)\n",
        "lengths_texts = create_lengths(int_texts)\n",
        "\n",
        "print(\"Summaries:\")\n",
        "print(lengths_summaries.describe())\n",
        "print()\n",
        "print(\"Texts:\")\n",
        "print(lengths_texts.describe())"
      ],
      "execution_count": 0,
      "outputs": [
        {
          "output_type": "stream",
          "text": [
            "Summaries:\n",
            "              counts\n",
            "count  568411.000000\n",
            "mean        4.181624\n",
            "std         2.657872\n",
            "min         0.000000\n",
            "25%         2.000000\n",
            "50%         4.000000\n",
            "75%         5.000000\n",
            "max        48.000000\n",
            "\n",
            "Texts:\n",
            "              counts\n",
            "count  568411.000000\n",
            "mean       41.996835\n",
            "std        42.520873\n",
            "min         1.000000\n",
            "25%        18.000000\n",
            "50%        29.000000\n",
            "75%        50.000000\n",
            "max      2085.000000\n"
          ],
          "name": "stdout"
        }
      ]
    },
    {
      "cell_type": "code",
      "metadata": {
        "id": "PgNiNZsVoUfK",
        "colab_type": "code",
        "outputId": "26cd5e03-6392-4b9d-b22a-ee67cde1591f",
        "colab": {
          "base_uri": "https://localhost:8080/",
          "height": 68
        }
      },
      "source": [
        "# Inspect the length of texts\n",
        "print(np.percentile(lengths_texts.counts, 90))\n",
        "print(np.percentile(lengths_texts.counts, 95))\n",
        "print(np.percentile(lengths_texts.counts, 99))"
      ],
      "execution_count": 0,
      "outputs": [
        {
          "output_type": "stream",
          "text": [
            "84.0\n",
            "115.0\n",
            "207.0\n"
          ],
          "name": "stdout"
        }
      ]
    },
    {
      "cell_type": "code",
      "metadata": {
        "id": "eJA1XXmuoXKg",
        "colab_type": "code",
        "outputId": "22c2cc64-bbfb-4dfa-f992-b8db281561f1",
        "colab": {
          "base_uri": "https://localhost:8080/",
          "height": 68
        }
      },
      "source": [
        "# Inspect the length of summaries\n",
        "print(np.percentile(lengths_summaries.counts, 90))\n",
        "print(np.percentile(lengths_summaries.counts, 95))\n",
        "print(np.percentile(lengths_summaries.counts, 99))"
      ],
      "execution_count": 0,
      "outputs": [
        {
          "output_type": "stream",
          "text": [
            "8.0\n",
            "9.0\n",
            "13.0\n"
          ],
          "name": "stdout"
        }
      ]
    },
    {
      "cell_type": "code",
      "metadata": {
        "id": "FK3krNgXoaB_",
        "colab_type": "code",
        "colab": {}
      },
      "source": [
        "def unk_counter(sentence):\n",
        "    '''Counts the number of time UNK appears in a sentence.'''\n",
        "    unk_count = 0\n",
        "    for word in sentence:\n",
        "        if word == vocab_to_int[\"<UNK>\"]:\n",
        "            unk_count += 1\n",
        "    return unk_count"
      ],
      "execution_count": 0,
      "outputs": []
    },
    {
      "cell_type": "code",
      "metadata": {
        "id": "bCJZYqetockv",
        "colab_type": "code",
        "outputId": "87523e2d-fe34-4895-ad0d-4468bfe72c1d",
        "colab": {
          "base_uri": "https://localhost:8080/",
          "height": 51
        }
      },
      "source": [
        "# takes a long time  , this is normal\n",
        "\n",
        "# Sort the summaries and texts by the length of the texts, shortest to longest\n",
        "# Limit the length of summaries and texts based on the min and max ranges.\n",
        "# Remove reviews that include too many UNKs\n",
        "\n",
        "sorted_summaries = []\n",
        "sorted_texts = []\n",
        "max_text_length = 84\n",
        "max_summary_length = 13\n",
        "min_length = 2\n",
        "unk_text_limit = 1\n",
        "unk_summary_limit = 0\n",
        "\n",
        "for length in range(min(lengths_texts.counts), max_text_length): \n",
        "    for count, words in enumerate(int_summaries):\n",
        "        if (len(int_summaries[count]) >= min_length and\n",
        "            len(int_summaries[count]) <= max_summary_length and\n",
        "            len(int_texts[count]) >= min_length and\n",
        "            unk_counter(int_summaries[count]) <= unk_summary_limit and\n",
        "            unk_counter(int_texts[count]) <= unk_text_limit and\n",
        "            length == len(int_texts[count])\n",
        "           ):\n",
        "            sorted_summaries.append(int_summaries[count])\n",
        "            sorted_texts.append(int_texts[count])\n",
        "        \n",
        "# Compare lengths to ensure they match\n",
        "print(len(sorted_summaries))\n",
        "print(len(sorted_texts))"
      ],
      "execution_count": 0,
      "outputs": [
        {
          "output_type": "stream",
          "text": [
            "425974\n",
            "425974\n"
          ],
          "name": "stdout"
        }
      ]
    },
    {
      "cell_type": "code",
      "metadata": {
        "id": "B34G6Qg8pV6n",
        "colab_type": "code",
        "colab": {}
      },
      "source": [
        "#The Model\n",
        "def model_inputs():\n",
        "    '''Create palceholders for inputs to the model'''\n",
        "    \n",
        "    input_data = tf.placeholder(tf.int32, [None, None], name='input')\n",
        "    targets = tf.placeholder(tf.int32, [None, None], name='targets')\n",
        "    lr = tf.placeholder(tf.float32, name='learning_rate')\n",
        "    keep_prob = tf.placeholder(tf.float32, name='keep_prob')\n",
        "    summary_length = tf.placeholder(tf.int32, (None,), name='summary_length')\n",
        "    max_summary_length = tf.reduce_max(summary_length, name='max_dec_len')\n",
        "    text_length = tf.placeholder(tf.int32, (None,), name='text_length')\n",
        "\n",
        "    return input_data, targets, lr, keep_prob, summary_length, max_summary_length, text_length"
      ],
      "execution_count": 0,
      "outputs": []
    },
    {
      "cell_type": "code",
      "metadata": {
        "id": "3ZyodML3pZX1",
        "colab_type": "code",
        "colab": {}
      },
      "source": [
        "def process_encoding_input(target_data, vocab_to_int, batch_size):\n",
        "    '''Remove the last word id from each batch and concat the <GO> to the begining of each batch'''\n",
        "    \n",
        "    ending = tf.strided_slice(target_data, [0, 0], [batch_size, -1], [1, 1])\n",
        "    dec_input = tf.concat([tf.fill([batch_size, 1], vocab_to_int['<GO>']), ending], 1)\n",
        "\n",
        "    return dec_input"
      ],
      "execution_count": 0,
      "outputs": []
    },
    {
      "cell_type": "code",
      "metadata": {
        "id": "lRMG3RfqpciR",
        "colab_type": "code",
        "colab": {}
      },
      "source": [
        "def encoding_layer(rnn_size, sequence_length, num_layers, rnn_inputs, keep_prob):\n",
        "    '''Create the encoding layer'''\n",
        "    \n",
        "    for layer in range(num_layers):\n",
        "        with tf.variable_scope('encoder_{}'.format(layer)):\n",
        "            cell_fw = tf.contrib.rnn.LSTMCell(rnn_size,\n",
        "                                              initializer=tf.random_uniform_initializer(-0.1, 0.1, seed=2))\n",
        "            cell_fw = tf.contrib.rnn.DropoutWrapper(cell_fw, \n",
        "                                                    input_keep_prob = keep_prob)\n",
        "\n",
        "            cell_bw = tf.contrib.rnn.LSTMCell(rnn_size,\n",
        "                                              initializer=tf.random_uniform_initializer(-0.1, 0.1, seed=2))\n",
        "            cell_bw = tf.contrib.rnn.DropoutWrapper(cell_bw, \n",
        "                                                    input_keep_prob = keep_prob)\n",
        "\n",
        "            enc_output, enc_state = tf.nn.bidirectional_dynamic_rnn(cell_fw, \n",
        "                                                                    cell_bw, \n",
        "                                                                    rnn_inputs,\n",
        "                                                                    sequence_length,\n",
        "                                                                    dtype=tf.float32)\n",
        "    # Join outputs since we are using a bidirectional RNN\n",
        "    enc_output = tf.concat(enc_output,2)\n",
        "    \n",
        "    return enc_output, enc_state"
      ],
      "execution_count": 0,
      "outputs": []
    },
    {
      "cell_type": "code",
      "metadata": {
        "id": "Pnj7mcL4pgMW",
        "colab_type": "code",
        "colab": {}
      },
      "source": [
        "def training_decoding_layer(dec_embed_input, summary_length, dec_cell, initial_state, output_layer, \n",
        "                            vocab_size, max_summary_length):\n",
        "    '''Create the training logits'''\n",
        "    \n",
        "    training_helper = tf.contrib.seq2seq.TrainingHelper(inputs=dec_embed_input,\n",
        "                                                        sequence_length=summary_length,\n",
        "                                                        time_major=False)\n",
        "\n",
        "    training_decoder = tf.contrib.seq2seq.BasicDecoder(dec_cell,\n",
        "                                                       training_helper,\n",
        "                                                       initial_state,\n",
        "                                                       output_layer) \n",
        "\n",
        "    training_logits, _ , _ = tf.contrib.seq2seq.dynamic_decode(training_decoder,\n",
        "                                                           output_time_major=False,\n",
        "                                                           impute_finished=True,\n",
        "                                                           maximum_iterations=max_summary_length)\n",
        "    return training_decoder"
      ],
      "execution_count": 0,
      "outputs": []
    },
    {
      "cell_type": "code",
      "metadata": {
        "id": "BX8MB6DHplWn",
        "colab_type": "code",
        "colab": {}
      },
      "source": [
        "def inference_decoding_layer(embeddings, start_token, end_token, dec_cell, initial_state, output_layer,\n",
        "                             max_summary_length, batch_size):\n",
        "    '''Create the inference logits'''\n",
        "    \n",
        "    start_tokens = tf.tile(tf.constant([start_token], dtype=tf.int32), [batch_size], name='start_tokens')\n",
        "    \n",
        "    inference_helper = tf.contrib.seq2seq.GreedyEmbeddingHelper(embeddings,\n",
        "                                                                start_tokens,\n",
        "                                                                end_token)\n",
        "                \n",
        "    inference_decoder = tf.contrib.seq2seq.BasicDecoder(dec_cell,\n",
        "                                                        inference_helper,\n",
        "                                                        initial_state,\n",
        "                                                        output_layer)\n",
        "                \n",
        "    inference_logits, _ , _ = tf.contrib.seq2seq.dynamic_decode(inference_decoder,\n",
        "                                                            output_time_major=False,\n",
        "                                                            impute_finished=True,\n",
        "                                                            maximum_iterations=max_summary_length)\n",
        "    \n",
        "    return inference_decoder"
      ],
      "execution_count": 0,
      "outputs": []
    },
    {
      "cell_type": "code",
      "metadata": {
        "id": "OXjecdHVpqOD",
        "colab_type": "code",
        "colab": {}
      },
      "source": [
        "def decoding_layer(dec_embed_input, embeddings, enc_output, enc_state, vocab_size, text_length, summary_length, \n",
        "                   max_summary_length, rnn_size, vocab_to_int, keep_prob, batch_size, num_layers):\n",
        "    '''Create the decoding cell and attention for the training and inference decoding layers'''\n",
        "    \n",
        "    for layer in range(num_layers):\n",
        "        with tf.variable_scope('decoder_{}'.format(layer)):\n",
        "            lstm = tf.contrib.rnn.LSTMCell(rnn_size,\n",
        "                                           initializer=tf.random_uniform_initializer(-0.1, 0.1, seed=2))\n",
        "            dec_cell = tf.contrib.rnn.DropoutWrapper(lstm, \n",
        "                                                     input_keep_prob = keep_prob)\n",
        "    \n",
        "    output_layer = Dense(vocab_size,\n",
        "                         kernel_initializer = tf.truncated_normal_initializer(mean = 0.0, stddev=0.1))\n",
        "    \n",
        "    attn_mech = tf.contrib.seq2seq.BahdanauAttention(rnn_size,\n",
        "                                                  enc_output,\n",
        "                                                  text_length,\n",
        "                                                  normalize=False,\n",
        "                                                  name='BahdanauAttention')\n",
        "\n",
        "    dec_cell = tf.contrib.seq2seq.AttentionWrapper(dec_cell,\n",
        "                                                          attn_mech,\n",
        "                                                          rnn_size)\n",
        "            \n",
        "    #initial_state = tf.contrib.seq2seq.AttentionWrapperState(enc_state[0],\n",
        "    #                                                                _zero_state_tensors(rnn_size, \n",
        "    #                                                                                    batch_size, \n",
        "    #                                                                                    tf.float32)) \n",
        "    initial_state = dec_cell.zero_state(batch_size=batch_size,dtype=tf.float32).clone(cell_state=enc_state[0])\n",
        "\n",
        "    with tf.variable_scope(\"decode\"):\n",
        "        training_decoder = training_decoding_layer(dec_embed_input, \n",
        "                                                  summary_length, \n",
        "                                                  dec_cell, \n",
        "                                                  initial_state,\n",
        "                                                  output_layer,\n",
        "                                                  vocab_size, \n",
        "                                                  max_summary_length)\n",
        "        \n",
        "        training_logits,_ ,_ = tf.contrib.seq2seq.dynamic_decode(training_decoder,\n",
        "                                  output_time_major=False,\n",
        "                                  impute_finished=True,\n",
        "                                  maximum_iterations=max_summary_length)\n",
        "    with tf.variable_scope(\"decode\", reuse=True):\n",
        "        inference_decoder = inference_decoding_layer(embeddings,  \n",
        "                                                    vocab_to_int['<GO>'], \n",
        "                                                    vocab_to_int['<EOS>'],\n",
        "                                                    dec_cell, \n",
        "                                                    initial_state, \n",
        "                                                    output_layer,\n",
        "                                                    max_summary_length,\n",
        "                                                    batch_size)\n",
        "        \n",
        "        inference_logits,_ ,_ = tf.contrib.seq2seq.dynamic_decode(inference_decoder,\n",
        "                                  output_time_major=False,\n",
        "                                  impute_finished=True,\n",
        "                                  maximum_iterations=max_summary_length)\n",
        "\n",
        "    return training_logits, inference_logits"
      ],
      "execution_count": 0,
      "outputs": []
    },
    {
      "cell_type": "code",
      "metadata": {
        "id": "BJN6Ten0ptLp",
        "colab_type": "code",
        "colab": {}
      },
      "source": [
        "def seq2seq_model(input_data, target_data, keep_prob, text_length, summary_length, max_summary_length, \n",
        "                  vocab_size, rnn_size, num_layers, vocab_to_int, batch_size):\n",
        "    '''Use the previous functions to create the training and inference logits'''\n",
        "    \n",
        "    # Use Numberbatch's embeddings and the newly created ones as our embeddings\n",
        "    embeddings = word_embedding_matrix\n",
        "    \n",
        "    enc_embed_input = tf.nn.embedding_lookup(embeddings, input_data)\n",
        "    enc_output, enc_state = encoding_layer(rnn_size, text_length, num_layers, enc_embed_input, keep_prob)\n",
        "    \n",
        "    dec_input = process_encoding_input(target_data, vocab_to_int, batch_size)\n",
        "    dec_embed_input = tf.nn.embedding_lookup(embeddings, dec_input)\n",
        "    \n",
        "    training_logits, inference_logits  = decoding_layer(dec_embed_input, \n",
        "                                                        embeddings,\n",
        "                                                        enc_output,\n",
        "                                                        enc_state, \n",
        "                                                        vocab_size, \n",
        "                                                        text_length, \n",
        "                                                        summary_length, \n",
        "                                                        max_summary_length,\n",
        "                                                        rnn_size, \n",
        "                                                        vocab_to_int, \n",
        "                                                        keep_prob, \n",
        "                                                        batch_size,\n",
        "                                                        num_layers)\n",
        "    \n",
        "    return training_logits, inference_logits"
      ],
      "execution_count": 0,
      "outputs": []
    },
    {
      "cell_type": "code",
      "metadata": {
        "id": "fa2rYZofpyqo",
        "colab_type": "code",
        "colab": {}
      },
      "source": [
        "def pad_sentence_batch(sentence_batch):\n",
        "    \"\"\"Pad sentences with <PAD> so that each sentence of a batch has the same length\"\"\"\n",
        "    max_sentence = max([len(sentence) for sentence in sentence_batch])\n",
        "    return [sentence + [vocab_to_int['<PAD>']] * (max_sentence - len(sentence)) for sentence in sentence_batch]"
      ],
      "execution_count": 0,
      "outputs": []
    },
    {
      "cell_type": "code",
      "metadata": {
        "id": "gdRWy5fTp1-5",
        "colab_type": "code",
        "colab": {}
      },
      "source": [
        "def get_batches(summaries, texts, batch_size):\n",
        "    \"\"\"Batch summaries, texts, and the lengths of their sentences together\"\"\"\n",
        "    for batch_i in range(0, len(texts)//batch_size):\n",
        "        start_i = batch_i * batch_size\n",
        "        summaries_batch = summaries[start_i:start_i + batch_size]\n",
        "        texts_batch = texts[start_i:start_i + batch_size]\n",
        "        pad_summaries_batch = np.array(pad_sentence_batch(summaries_batch))\n",
        "        pad_texts_batch = np.array(pad_sentence_batch(texts_batch))\n",
        "        \n",
        "        # Need the lengths for the _lengths parameters\n",
        "        pad_summaries_lengths = []\n",
        "        for summary in pad_summaries_batch:\n",
        "            pad_summaries_lengths.append(len(summary))\n",
        "        \n",
        "        pad_texts_lengths = []\n",
        "        for text in pad_texts_batch:\n",
        "            pad_texts_lengths.append(len(text))\n",
        "        \n",
        "        yield pad_summaries_batch, pad_texts_batch, pad_summaries_lengths, pad_texts_lengths"
      ],
      "execution_count": 0,
      "outputs": []
    },
    {
      "cell_type": "code",
      "metadata": {
        "id": "Q3h7H3PYp8Jh",
        "colab_type": "code",
        "colab": {}
      },
      "source": [
        "# Set the Hyperparameters\n",
        "epochs = 100\n",
        "batch_size = 64\n",
        "rnn_size = 256\n",
        "num_layers = 2\n",
        "learning_rate = 0.005\n",
        "keep_probability = 0.75"
      ],
      "execution_count": 0,
      "outputs": []
    },
    {
      "cell_type": "code",
      "metadata": {
        "id": "unHXg3X5p__2",
        "colab_type": "code",
        "outputId": "23bfd9f9-8a79-4778-9bcf-4a164a28e4c5",
        "colab": {
          "base_uri": "https://localhost:8080/",
          "height": 496
        }
      },
      "source": [
        "# Build the graph\n",
        "train_graph = tf.Graph()\n",
        "# Set the graph to default to ensure that it is ready for training\n",
        "with train_graph.as_default():\n",
        "    \n",
        "    # Load the model inputs    \n",
        "    input_data, targets, lr, keep_prob, summary_length, max_summary_length, text_length = model_inputs()\n",
        "\n",
        "    # Create the training and inference logits\n",
        "    training_logits, inference_logits = seq2seq_model(tf.reverse(input_data, [-1]),\n",
        "                                                      targets, \n",
        "                                                      keep_prob,   \n",
        "                                                      text_length,\n",
        "                                                      summary_length,\n",
        "                                                      max_summary_length,\n",
        "                                                      len(vocab_to_int)+1,\n",
        "                                                      rnn_size, \n",
        "                                                      num_layers, \n",
        "                                                      vocab_to_int,\n",
        "                                                      batch_size)\n",
        "    \n",
        "    # Create tensors for the training logits and inference logits\n",
        "    training_logits = tf.identity(training_logits.rnn_output, 'logits')\n",
        "    inference_logits = tf.identity(inference_logits.sample_id, name='predictions')\n",
        "    \n",
        "    # Create the weights for sequence_loss\n",
        "    masks = tf.sequence_mask(summary_length, max_summary_length, dtype=tf.float32, name='masks')\n",
        "\n",
        "    with tf.name_scope(\"optimization\"):\n",
        "        # Loss function\n",
        "        cost = tf.contrib.seq2seq.sequence_loss(\n",
        "            training_logits,\n",
        "            targets,\n",
        "            masks)\n",
        "\n",
        "        # Optimizer\n",
        "        optimizer = tf.train.AdamOptimizer(learning_rate)\n",
        "\n",
        "        # Gradient Clipping\n",
        "        gradients = optimizer.compute_gradients(cost)\n",
        "        capped_gradients = [(tf.clip_by_value(grad, -5., 5.), var) for grad, var in gradients if grad is not None]\n",
        "        train_op = optimizer.apply_gradients(capped_gradients)\n",
        "print(\"Graph is built.\")"
      ],
      "execution_count": 0,
      "outputs": [
        {
          "output_type": "stream",
          "text": [
            "WARNING:tensorflow:\n",
            "The TensorFlow contrib module will not be included in TensorFlow 2.0.\n",
            "For more information, please see:\n",
            "  * https://github.com/tensorflow/community/blob/master/rfcs/20180907-contrib-sunset.md\n",
            "  * https://github.com/tensorflow/addons\n",
            "  * https://github.com/tensorflow/io (for I/O related ops)\n",
            "If you depend on functionality not listed there, please file an issue.\n",
            "\n",
            "WARNING:tensorflow:From <ipython-input-43-9390cb26606a>:7: LSTMCell.__init__ (from tensorflow.python.ops.rnn_cell_impl) is deprecated and will be removed in a future version.\n",
            "Instructions for updating:\n",
            "This class is equivalent as tf.keras.layers.LSTMCell, and will be replaced by that in Tensorflow 2.0.\n",
            "WARNING:tensorflow:From <ipython-input-43-9390cb26606a>:20: bidirectional_dynamic_rnn (from tensorflow.python.ops.rnn) is deprecated and will be removed in a future version.\n",
            "Instructions for updating:\n",
            "Please use `keras.layers.Bidirectional(keras.layers.RNN(cell))`, which is equivalent to this API\n",
            "WARNING:tensorflow:From /usr/local/lib/python3.6/dist-packages/tensorflow_core/python/ops/rnn.py:464: dynamic_rnn (from tensorflow.python.ops.rnn) is deprecated and will be removed in a future version.\n",
            "Instructions for updating:\n",
            "Please use `keras.layers.RNN(cell)`, which is equivalent to this API\n",
            "WARNING:tensorflow:From /usr/local/lib/python3.6/dist-packages/tensorflow_core/python/ops/rnn_cell_impl.py:958: Layer.add_variable (from tensorflow.python.keras.engine.base_layer) is deprecated and will be removed in a future version.\n",
            "Instructions for updating:\n",
            "Please use `layer.add_weight` method instead.\n",
            "WARNING:tensorflow:From /usr/local/lib/python3.6/dist-packages/tensorflow_core/python/ops/rnn_cell_impl.py:962: calling Zeros.__init__ (from tensorflow.python.ops.init_ops) with dtype is deprecated and will be removed in a future version.\n",
            "Instructions for updating:\n",
            "Call initializer instance with the dtype argument instead of passing it to the constructor\n",
            "WARNING:tensorflow:From /usr/local/lib/python3.6/dist-packages/tensorflow_core/python/ops/rnn.py:244: where (from tensorflow.python.ops.array_ops) is deprecated and will be removed in a future version.\n",
            "Instructions for updating:\n",
            "Use tf.where in 2.0, which has the same broadcast rule as np.where\n",
            "Graph is built.\n"
          ],
          "name": "stdout"
        }
      ]
    },
    {
      "cell_type": "code",
      "metadata": {
        "id": "Rx0SaKd7qFBg",
        "colab_type": "code",
        "outputId": "e2babe93-eb84-4939-9480-db1dcef84390",
        "colab": {
          "base_uri": "https://localhost:8080/",
          "height": 51
        }
      },
      "source": [
        "# Subset the data for training\n",
        "start = 200000\n",
        "end = start + 300000\n",
        "sorted_summaries_short = sorted_summaries[start:end]\n",
        "sorted_texts_short = sorted_texts[start:end]\n",
        "print(\"The shortest text length:\", len(sorted_texts_short[0]))\n",
        "print(\"The longest text length:\",len(sorted_texts_short[-1]))\n"
      ],
      "execution_count": 0,
      "outputs": [
        {
          "output_type": "stream",
          "text": [
            "The shortest text length: 25\n",
            "The longest text length: 83\n"
          ],
          "name": "stdout"
        }
      ]
    },
    {
      "cell_type": "code",
      "metadata": {
        "id": "3q_SKN0OqNlQ",
        "colab_type": "code",
        "outputId": "6562ed6d-46d5-4637-a85b-6fb431b75d66",
        "colab": {
          "base_uri": "https://localhost:8080/",
          "height": 1000
        }
      },
      "source": [
        "#Train the Model\n",
        "learning_rate_decay = 0.95\n",
        "min_learning_rate = 0.0005\n",
        "display_step = 20 # Check training loss after every 20 batches\n",
        "stop_early = 0 \n",
        "stop = 6 #3 # If the update loss does not decrease in 3 consecutive update checks, stop training\n",
        "per_epoch = 3 # Make 3 update checks per epoch\n",
        "update_check = (len(sorted_texts_short)//batch_size//per_epoch)-1\n",
        "\n",
        "update_loss = 0 \n",
        "batch_loss = 0\n",
        "summary_update_loss = [] # Record the update losses for saving improvements in the model\n",
        "\n",
        "  \n",
        "tf.reset_default_graph()\n",
        "checkpoint = \"gdrive/My Drive/Colab Notebooks/Menu/Model 300/best_model.ckpt\"  #300k sentence\n",
        "with tf.Session(graph=train_graph) as sess:\n",
        "    sess.run(tf.global_variables_initializer())\n",
        "    \n",
        "    # If we want to continue training a previous session\n",
        "    # loader = tf.train.import_meta_graph(checkpoint + '.meta')\n",
        "    # loader.restore(sess, checkpoint)\n",
        "    #sess.run(tf.local_variables_initializer())\n",
        "\n",
        "    for epoch_i in range(1, epochs+1):\n",
        "        update_loss = 0\n",
        "        batch_loss = 0\n",
        "        for batch_i, (summaries_batch, texts_batch, summaries_lengths, texts_lengths) in enumerate(\n",
        "                get_batches(sorted_summaries_short, sorted_texts_short, batch_size)):\n",
        "            start_time = time.time()\n",
        "            _, loss = sess.run(\n",
        "                [train_op, cost],\n",
        "                {input_data: texts_batch,\n",
        "                 targets: summaries_batch,\n",
        "                 lr: learning_rate,\n",
        "                 summary_length: summaries_lengths,\n",
        "                 text_length: texts_lengths,\n",
        "                 keep_prob: keep_probability})\n",
        "\n",
        "            batch_loss += loss\n",
        "            update_loss += loss\n",
        "            end_time = time.time()\n",
        "            batch_time = end_time - start_time\n",
        "\n",
        "            if batch_i % display_step == 0 and batch_i > 0:\n",
        "                print('Epoch {:>3}/{} Batch {:>4}/{} - Loss: {:>6.3f}, Seconds: {:>4.2f}'\n",
        "                      .format(epoch_i,\n",
        "                              epochs, \n",
        "                              batch_i, \n",
        "                              len(sorted_texts_short) // batch_size, \n",
        "                              batch_loss / display_step, \n",
        "                              batch_time*display_step))\n",
        "                batch_loss = 0\n",
        "                \n",
        "                saver = tf.train.Saver() \n",
        "                saver.save(sess, checkpoint)\n",
        "                \n",
        "            if batch_i % update_check == 0 and batch_i > 0:\n",
        "                print(\"Average loss for this update:\", round(update_loss/update_check,3))\n",
        "                summary_update_loss.append(update_loss)\n",
        "                \n",
        "              \n",
        "                  \n",
        "                # If the update loss is at a new minimum, save the model\n",
        "                if update_loss <= min(summary_update_loss):\n",
        "                    print('New Record!') \n",
        "                    stop_early = 0\n",
        "                    saver = tf.train.Saver() \n",
        "                    saver.save(sess, checkpoint)\n",
        "\n",
        "                else:\n",
        "                    print(\"No Improvement.\")\n",
        "                    stop_early += 2\n",
        "                    if stop_early == stop:\n",
        "                        break\n",
        "                update_loss = 0\n",
        "            \n",
        "                    \n",
        "        # Reduce learning rate, but not below its minimum value\n",
        "        learning_rate *= learning_rate_decay\n",
        "        if learning_rate < min_learning_rate:\n",
        "            learning_rate = min_learning_rate\n",
        "        \n",
        "        if stop_early == stop:\n",
        "            print(\"Stopping Training.\")\n",
        "            break"
      ],
      "execution_count": 0,
      "outputs": [
        {
          "output_type": "stream",
          "text": [
            "Epoch   1/100 Batch   20/3530 - Loss:  4.657, Seconds: 4.51\n",
            "Epoch   1/100 Batch   40/3530 - Loss:  2.778, Seconds: 4.63\n",
            "Epoch   1/100 Batch   60/3530 - Loss:  2.815, Seconds: 4.35\n",
            "Epoch   1/100 Batch   80/3530 - Loss:  2.779, Seconds: 4.85\n",
            "Epoch   1/100 Batch  100/3530 - Loss:  2.666, Seconds: 4.33\n",
            "Epoch   1/100 Batch  120/3530 - Loss:  2.691, Seconds: 4.83\n",
            "Epoch   1/100 Batch  140/3530 - Loss:  2.431, Seconds: 4.95\n",
            "Epoch   1/100 Batch  160/3530 - Loss:  2.515, Seconds: 5.11\n",
            "Epoch   1/100 Batch  180/3530 - Loss:  2.541, Seconds: 4.99\n",
            "Epoch   1/100 Batch  200/3530 - Loss:  2.598, Seconds: 5.55\n",
            "Epoch   1/100 Batch  220/3530 - Loss:  2.498, Seconds: 4.72\n",
            "Epoch   1/100 Batch  240/3530 - Loss:  2.399, Seconds: 4.64\n",
            "Epoch   1/100 Batch  260/3530 - Loss:  2.320, Seconds: 4.95\n",
            "Epoch   1/100 Batch  280/3530 - Loss:  2.238, Seconds: 4.78\n",
            "Epoch   1/100 Batch  300/3530 - Loss:  2.289, Seconds: 4.47\n",
            "Epoch   1/100 Batch  320/3530 - Loss:  2.307, Seconds: 4.01\n",
            "Epoch   1/100 Batch  340/3530 - Loss:  2.545, Seconds: 5.01\n",
            "Epoch   1/100 Batch  360/3530 - Loss:  2.453, Seconds: 5.61\n",
            "Epoch   1/100 Batch  380/3530 - Loss:  2.339, Seconds: 4.86\n",
            "Epoch   1/100 Batch  400/3530 - Loss:  2.115, Seconds: 5.00\n",
            "Epoch   1/100 Batch  420/3530 - Loss:  2.024, Seconds: 5.24\n",
            "Epoch   1/100 Batch  440/3530 - Loss:  2.101, Seconds: 5.23\n",
            "Epoch   1/100 Batch  460/3530 - Loss:  2.291, Seconds: 4.90\n",
            "Epoch   1/100 Batch  480/3530 - Loss:  2.322, Seconds: 4.85\n",
            "Epoch   1/100 Batch  500/3530 - Loss:  2.271, Seconds: 4.36\n",
            "Epoch   1/100 Batch  520/3530 - Loss:  2.198, Seconds: 5.46\n",
            "Epoch   1/100 Batch  540/3530 - Loss:  2.061, Seconds: 5.33\n",
            "Epoch   1/100 Batch  560/3530 - Loss:  2.096, Seconds: 5.06\n",
            "Epoch   1/100 Batch  580/3530 - Loss:  2.133, Seconds: 4.34\n",
            "Epoch   1/100 Batch  600/3530 - Loss:  2.161, Seconds: 5.82\n",
            "Epoch   1/100 Batch  620/3530 - Loss:  2.446, Seconds: 5.79\n",
            "Epoch   1/100 Batch  640/3530 - Loss:  2.297, Seconds: 4.42\n",
            "Epoch   1/100 Batch  660/3530 - Loss:  2.182, Seconds: 5.23\n",
            "Epoch   1/100 Batch  680/3530 - Loss:  2.063, Seconds: 4.61\n",
            "Epoch   1/100 Batch  700/3530 - Loss:  1.956, Seconds: 5.71\n",
            "Epoch   1/100 Batch  720/3530 - Loss:  1.959, Seconds: 5.78\n",
            "Epoch   1/100 Batch  740/3530 - Loss:  2.400, Seconds: 5.44\n",
            "Epoch   1/100 Batch  760/3530 - Loss:  2.308, Seconds: 4.57\n",
            "Epoch   1/100 Batch  780/3530 - Loss:  2.134, Seconds: 4.85\n",
            "Epoch   1/100 Batch  800/3530 - Loss:  1.926, Seconds: 4.48\n",
            "Epoch   1/100 Batch  820/3530 - Loss:  1.952, Seconds: 4.74\n",
            "Epoch   1/100 Batch  840/3530 - Loss:  1.980, Seconds: 5.62\n",
            "Epoch   1/100 Batch  860/3530 - Loss:  2.173, Seconds: 5.02\n",
            "Epoch   1/100 Batch  880/3530 - Loss:  2.152, Seconds: 4.70\n",
            "Epoch   1/100 Batch  900/3530 - Loss:  2.099, Seconds: 5.16\n",
            "Epoch   1/100 Batch  920/3530 - Loss:  2.070, Seconds: 5.42\n",
            "Epoch   1/100 Batch  940/3530 - Loss:  2.032, Seconds: 4.60\n",
            "Epoch   1/100 Batch  960/3530 - Loss:  1.848, Seconds: 5.95\n",
            "Epoch   1/100 Batch  980/3530 - Loss:  2.301, Seconds: 4.55\n",
            "Epoch   1/100 Batch 1000/3530 - Loss:  2.055, Seconds: 5.91\n",
            "Epoch   1/100 Batch 1020/3530 - Loss:  2.019, Seconds: 5.09\n",
            "Epoch   1/100 Batch 1040/3530 - Loss:  1.966, Seconds: 5.35\n",
            "Epoch   1/100 Batch 1060/3530 - Loss:  1.871, Seconds: 4.78\n",
            "Epoch   1/100 Batch 1080/3530 - Loss:  2.054, Seconds: 5.94\n",
            "Epoch   1/100 Batch 1100/3530 - Loss:  2.096, Seconds: 5.66\n",
            "Epoch   1/100 Batch 1120/3530 - Loss:  2.007, Seconds: 5.83\n",
            "Epoch   1/100 Batch 1140/3530 - Loss:  1.902, Seconds: 4.97\n",
            "Epoch   1/100 Batch 1160/3530 - Loss:  1.892, Seconds: 5.44\n",
            "Average loss for this update: 2.266\n",
            "New Record!\n",
            "Epoch   1/100 Batch 1180/3530 - Loss:  1.876, Seconds: 6.04\n",
            "Epoch   1/100 Batch 1200/3530 - Loss:  2.180, Seconds: 5.23\n",
            "Epoch   1/100 Batch 1220/3530 - Loss:  2.031, Seconds: 5.31\n",
            "Epoch   1/100 Batch 1240/3530 - Loss:  1.810, Seconds: 5.65\n",
            "Epoch   1/100 Batch 1260/3530 - Loss:  1.923, Seconds: 5.38\n",
            "Epoch   1/100 Batch 1280/3530 - Loss:  1.845, Seconds: 8.66\n",
            "Epoch   1/100 Batch 1300/3530 - Loss:  2.112, Seconds: 5.63\n",
            "Epoch   1/100 Batch 1320/3530 - Loss:  1.971, Seconds: 7.39\n",
            "Epoch   1/100 Batch 1340/3530 - Loss:  1.856, Seconds: 5.71\n",
            "Epoch   1/100 Batch 1360/3530 - Loss:  1.893, Seconds: 4.78\n",
            "Epoch   1/100 Batch 1380/3530 - Loss:  1.828, Seconds: 6.16\n",
            "Epoch   1/100 Batch 1400/3530 - Loss:  2.211, Seconds: 5.45\n",
            "Epoch   1/100 Batch 1420/3530 - Loss:  1.964, Seconds: 7.74\n",
            "Epoch   1/100 Batch 1440/3530 - Loss:  1.858, Seconds: 5.62\n",
            "Epoch   1/100 Batch 1460/3530 - Loss:  1.787, Seconds: 6.62\n",
            "Epoch   1/100 Batch 1480/3530 - Loss:  1.958, Seconds: 5.56\n",
            "Epoch   1/100 Batch 1500/3530 - Loss:  2.066, Seconds: 5.28\n",
            "Epoch   1/100 Batch 1520/3530 - Loss:  2.082, Seconds: 5.91\n",
            "Epoch   1/100 Batch 1540/3530 - Loss:  1.754, Seconds: 6.46\n",
            "Epoch   1/100 Batch 1560/3530 - Loss:  1.782, Seconds: 6.21\n",
            "Epoch   1/100 Batch 1580/3530 - Loss:  2.187, Seconds: 6.30\n",
            "Epoch   1/100 Batch 1600/3530 - Loss:  2.119, Seconds: 5.47\n",
            "Epoch   1/100 Batch 1620/3530 - Loss:  1.856, Seconds: 6.68\n",
            "Epoch   1/100 Batch 1640/3530 - Loss:  1.856, Seconds: 6.35\n",
            "Epoch   1/100 Batch 1660/3530 - Loss:  2.063, Seconds: 5.19\n",
            "Epoch   1/100 Batch 1680/3530 - Loss:  2.166, Seconds: 5.51\n",
            "Epoch   1/100 Batch 1700/3530 - Loss:  2.100, Seconds: 5.58\n",
            "Epoch   1/100 Batch 1720/3530 - Loss:  1.869, Seconds: 5.79\n",
            "Epoch   1/100 Batch 1740/3530 - Loss:  1.899, Seconds: 6.43\n",
            "Epoch   1/100 Batch 1760/3530 - Loss:  2.127, Seconds: 5.36\n",
            "Epoch   1/100 Batch 1780/3530 - Loss:  2.085, Seconds: 6.27\n",
            "Epoch   1/100 Batch 1800/3530 - Loss:  1.857, Seconds: 5.26\n",
            "Epoch   1/100 Batch 1820/3530 - Loss:  1.931, Seconds: 5.07\n",
            "Epoch   1/100 Batch 1840/3530 - Loss:  2.157, Seconds: 5.95\n",
            "Epoch   1/100 Batch 1860/3530 - Loss:  2.019, Seconds: 5.88\n",
            "Epoch   1/100 Batch 1880/3530 - Loss:  1.876, Seconds: 5.41\n",
            "Epoch   1/100 Batch 1900/3530 - Loss:  1.908, Seconds: 6.12\n",
            "Epoch   1/100 Batch 1920/3530 - Loss:  2.214, Seconds: 6.03\n",
            "Epoch   1/100 Batch 1940/3530 - Loss:  1.948, Seconds: 6.24\n",
            "Epoch   1/100 Batch 1960/3530 - Loss:  1.903, Seconds: 6.36\n",
            "Epoch   1/100 Batch 1980/3530 - Loss:  1.991, Seconds: 6.59\n",
            "Epoch   1/100 Batch 2000/3530 - Loss:  2.089, Seconds: 6.05\n",
            "Epoch   1/100 Batch 2020/3530 - Loss:  2.000, Seconds: 6.29\n",
            "Epoch   1/100 Batch 2040/3530 - Loss:  1.779, Seconds: 6.86\n",
            "Epoch   1/100 Batch 2060/3530 - Loss:  2.139, Seconds: 5.97\n",
            "Epoch   1/100 Batch 2080/3530 - Loss:  2.048, Seconds: 6.78\n",
            "Epoch   1/100 Batch 2100/3530 - Loss:  1.848, Seconds: 7.35\n",
            "Epoch   1/100 Batch 2120/3530 - Loss:  1.962, Seconds: 5.34\n",
            "Epoch   1/100 Batch 2140/3530 - Loss:  2.117, Seconds: 6.30\n",
            "Epoch   1/100 Batch 2160/3530 - Loss:  1.921, Seconds: 6.57\n",
            "Epoch   1/100 Batch 2180/3530 - Loss:  1.870, Seconds: 5.03\n",
            "Epoch   1/100 Batch 2200/3530 - Loss:  2.156, Seconds: 6.00\n",
            "Epoch   1/100 Batch 2220/3530 - Loss:  1.992, Seconds: 6.21\n",
            "Epoch   1/100 Batch 2240/3530 - Loss:  1.855, Seconds: 6.90\n",
            "Epoch   1/100 Batch 2260/3530 - Loss:  2.141, Seconds: 7.98\n",
            "Epoch   1/100 Batch 2280/3530 - Loss:  1.974, Seconds: 6.18\n",
            "Epoch   1/100 Batch 2300/3530 - Loss:  1.800, Seconds: 7.16\n",
            "Epoch   1/100 Batch 2320/3530 - Loss:  1.958, Seconds: 6.06\n",
            "Epoch   1/100 Batch 2340/3530 - Loss:  2.185, Seconds: 6.20\n",
            "Average loss for this update: 1.981\n",
            "New Record!\n",
            "Epoch   1/100 Batch 2360/3530 - Loss:  1.853, Seconds: 6.90\n",
            "Epoch   1/100 Batch 2380/3530 - Loss:  2.042, Seconds: 7.42\n",
            "Epoch   1/100 Batch 2400/3530 - Loss:  2.153, Seconds: 6.31\n",
            "Epoch   1/100 Batch 2420/3530 - Loss:  1.972, Seconds: 7.15\n",
            "Epoch   1/100 Batch 2440/3530 - Loss:  2.108, Seconds: 6.82\n",
            "Epoch   1/100 Batch 2460/3530 - Loss:  2.151, Seconds: 6.26\n",
            "Epoch   1/100 Batch 2480/3530 - Loss:  1.885, Seconds: 6.22\n",
            "Epoch   1/100 Batch 2500/3530 - Loss:  2.040, Seconds: 14.01\n",
            "Epoch   1/100 Batch 2520/3530 - Loss:  2.082, Seconds: 6.30\n",
            "Epoch   1/100 Batch 2540/3530 - Loss:  1.815, Seconds: 13.40\n",
            "Epoch   1/100 Batch 2560/3530 - Loss:  2.122, Seconds: 12.67\n",
            "Epoch   1/100 Batch 2580/3530 - Loss:  1.951, Seconds: 11.17\n",
            "Epoch   1/100 Batch 2600/3530 - Loss:  1.862, Seconds: 7.75\n",
            "Epoch   1/100 Batch 2620/3530 - Loss:  2.199, Seconds: 11.00\n",
            "Epoch   1/100 Batch 2640/3530 - Loss:  1.874, Seconds: 7.49\n",
            "Epoch   1/100 Batch 2660/3530 - Loss:  2.103, Seconds: 7.62\n",
            "Epoch   1/100 Batch 2680/3530 - Loss:  2.030, Seconds: 6.46\n",
            "Epoch   1/100 Batch 2700/3530 - Loss:  1.986, Seconds: 9.36\n",
            "Epoch   1/100 Batch 2720/3530 - Loss:  2.126, Seconds: 7.27\n",
            "Epoch   1/100 Batch 2740/3530 - Loss:  1.898, Seconds: 7.19\n",
            "Epoch   1/100 Batch 2760/3530 - Loss:  2.177, Seconds: 7.58\n",
            "Epoch   1/100 Batch 2780/3530 - Loss:  1.929, Seconds: 7.10\n",
            "Epoch   1/100 Batch 2800/3530 - Loss:  2.169, Seconds: 6.27\n",
            "Epoch   1/100 Batch 2820/3530 - Loss:  2.064, Seconds: 7.65\n",
            "Epoch   1/100 Batch 2840/3530 - Loss:  2.201, Seconds: 7.90\n",
            "Epoch   1/100 Batch 2860/3530 - Loss:  1.927, Seconds: 7.49\n",
            "Epoch   1/100 Batch 2880/3530 - Loss:  2.078, Seconds: 7.01\n",
            "Epoch   1/100 Batch 2900/3530 - Loss:  2.060, Seconds: 7.54\n",
            "Epoch   1/100 Batch 2920/3530 - Loss:  2.146, Seconds: 7.47\n",
            "Epoch   1/100 Batch 2940/3530 - Loss:  1.994, Seconds: 7.47\n",
            "Epoch   1/100 Batch 2960/3530 - Loss:  2.173, Seconds: 6.42\n",
            "Epoch   1/100 Batch 2980/3530 - Loss:  2.083, Seconds: 7.63\n",
            "Epoch   1/100 Batch 3000/3530 - Loss:  2.088, Seconds: 7.80\n",
            "Epoch   1/100 Batch 3020/3530 - Loss:  2.104, Seconds: 7.06\n",
            "Epoch   1/100 Batch 3040/3530 - Loss:  2.270, Seconds: 7.13\n",
            "Epoch   1/100 Batch 3060/3530 - Loss:  2.118, Seconds: 8.03\n",
            "Epoch   1/100 Batch 3080/3530 - Loss:  2.201, Seconds: 7.44\n",
            "Epoch   1/100 Batch 3100/3530 - Loss:  2.229, Seconds: 7.51\n",
            "Epoch   1/100 Batch 3120/3530 - Loss:  2.002, Seconds: 7.75\n",
            "Epoch   1/100 Batch 3140/3530 - Loss:  2.103, Seconds: 8.79\n",
            "Epoch   1/100 Batch 3160/3530 - Loss:  2.003, Seconds: 7.43\n",
            "Epoch   1/100 Batch 3180/3530 - Loss:  2.054, Seconds: 9.66\n",
            "Epoch   1/100 Batch 3200/3530 - Loss:  2.192, Seconds: 7.29\n",
            "Epoch   1/100 Batch 3220/3530 - Loss:  2.112, Seconds: 8.57\n",
            "Epoch   1/100 Batch 3240/3530 - Loss:  2.102, Seconds: 8.20\n",
            "Epoch   1/100 Batch 3260/3530 - Loss:  2.059, Seconds: 7.61\n",
            "Epoch   1/100 Batch 3280/3530 - Loss:  2.193, Seconds: 7.51\n",
            "Epoch   1/100 Batch 3300/3530 - Loss:  2.164, Seconds: 9.36\n",
            "Epoch   1/100 Batch 3320/3530 - Loss:  2.209, Seconds: 8.45\n",
            "Epoch   1/100 Batch 3340/3530 - Loss:  2.183, Seconds: 9.18\n",
            "Epoch   1/100 Batch 3360/3530 - Loss:  2.219, Seconds: 15.75\n",
            "Epoch   1/100 Batch 3380/3530 - Loss:  2.250, Seconds: 8.99\n",
            "Epoch   1/100 Batch 3400/3530 - Loss:  2.147, Seconds: 14.27\n",
            "Epoch   1/100 Batch 3420/3530 - Loss:  2.082, Seconds: 15.89\n",
            "Epoch   1/100 Batch 3440/3530 - Loss:  2.112, Seconds: 17.36\n",
            "Epoch   1/100 Batch 3460/3530 - Loss:  2.289, Seconds: 10.64\n",
            "Epoch   1/100 Batch 3480/3530 - Loss:  2.227, Seconds: 12.04\n",
            "Epoch   1/100 Batch 3500/3530 - Loss:  2.242, Seconds: 10.47\n",
            "Epoch   1/100 Batch 3520/3530 - Loss:  2.189, Seconds: 10.06\n",
            "Average loss for this update: 2.094\n",
            "No Improvement.\n",
            "Epoch   2/100 Batch   20/3530 - Loss:  2.029, Seconds: 4.78\n",
            "Epoch   2/100 Batch   40/3530 - Loss:  1.817, Seconds: 5.02\n",
            "Epoch   2/100 Batch   60/3530 - Loss:  1.862, Seconds: 4.93\n",
            "Epoch   2/100 Batch   80/3530 - Loss:  1.828, Seconds: 5.17\n",
            "Epoch   2/100 Batch  100/3530 - Loss:  1.776, Seconds: 4.52\n",
            "Epoch   2/100 Batch  120/3530 - Loss:  1.773, Seconds: 5.25\n",
            "Epoch   2/100 Batch  140/3530 - Loss:  1.587, Seconds: 4.94\n",
            "Epoch   2/100 Batch  160/3530 - Loss:  1.666, Seconds: 4.95\n",
            "Epoch   2/100 Batch  180/3530 - Loss:  1.724, Seconds: 4.74\n",
            "Epoch   2/100 Batch  200/3530 - Loss:  1.870, Seconds: 4.42\n",
            "Epoch   2/100 Batch  220/3530 - Loss:  1.797, Seconds: 4.45\n",
            "Epoch   2/100 Batch  240/3530 - Loss:  1.702, Seconds: 4.91\n",
            "Epoch   2/100 Batch  260/3530 - Loss:  1.646, Seconds: 5.07\n",
            "Epoch   2/100 Batch  280/3530 - Loss:  1.528, Seconds: 4.44\n",
            "Epoch   2/100 Batch  300/3530 - Loss:  1.601, Seconds: 5.10\n",
            "Epoch   2/100 Batch  320/3530 - Loss:  1.643, Seconds: 4.09\n",
            "Epoch   2/100 Batch  340/3530 - Loss:  1.961, Seconds: 5.07\n",
            "Epoch   2/100 Batch  360/3530 - Loss:  1.864, Seconds: 5.33\n",
            "Epoch   2/100 Batch  380/3530 - Loss:  1.768, Seconds: 4.22\n",
            "Epoch   2/100 Batch  400/3530 - Loss:  1.589, Seconds: 4.73\n",
            "Epoch   2/100 Batch  420/3530 - Loss:  1.507, Seconds: 5.79\n",
            "Epoch   2/100 Batch  440/3530 - Loss:  1.584, Seconds: 5.57\n",
            "Epoch   2/100 Batch  460/3530 - Loss:  1.732, Seconds: 5.25\n",
            "Epoch   2/100 Batch  480/3530 - Loss:  1.846, Seconds: 5.03\n",
            "Epoch   2/100 Batch  500/3530 - Loss:  1.785, Seconds: 4.67\n",
            "Epoch   2/100 Batch  520/3530 - Loss:  1.749, Seconds: 5.58\n",
            "Epoch   2/100 Batch  540/3530 - Loss:  1.608, Seconds: 5.09\n",
            "Epoch   2/100 Batch  560/3530 - Loss:  1.629, Seconds: 4.93\n",
            "Epoch   2/100 Batch  580/3530 - Loss:  1.678, Seconds: 4.32\n",
            "Epoch   2/100 Batch  600/3530 - Loss:  1.722, Seconds: 5.67\n",
            "Epoch   2/100 Batch  620/3530 - Loss:  1.979, Seconds: 4.86\n",
            "Epoch   2/100 Batch  640/3530 - Loss:  1.845, Seconds: 4.64\n",
            "Epoch   2/100 Batch  660/3530 - Loss:  1.765, Seconds: 5.32\n",
            "Epoch   2/100 Batch  680/3530 - Loss:  1.679, Seconds: 5.00\n",
            "Epoch   2/100 Batch  700/3530 - Loss:  1.580, Seconds: 5.83\n",
            "Epoch   2/100 Batch  720/3530 - Loss:  1.580, Seconds: 6.01\n",
            "Epoch   2/100 Batch  740/3530 - Loss:  1.997, Seconds: 5.39\n",
            "Epoch   2/100 Batch  760/3530 - Loss:  1.921, Seconds: 4.23\n",
            "Epoch   2/100 Batch  780/3530 - Loss:  1.757, Seconds: 4.49\n",
            "Epoch   2/100 Batch  800/3530 - Loss:  1.586, Seconds: 4.91\n",
            "Epoch   2/100 Batch  820/3530 - Loss:  1.613, Seconds: 4.73\n",
            "Epoch   2/100 Batch  840/3530 - Loss:  1.634, Seconds: 5.70\n",
            "Epoch   2/100 Batch  860/3530 - Loss:  1.839, Seconds: 4.97\n",
            "Epoch   2/100 Batch  880/3530 - Loss:  1.820, Seconds: 4.72\n",
            "Epoch   2/100 Batch  900/3530 - Loss:  1.765, Seconds: 6.67\n",
            "Epoch   2/100 Batch  920/3530 - Loss:  1.737, Seconds: 5.75\n",
            "Epoch   2/100 Batch  940/3530 - Loss:  1.711, Seconds: 4.48\n",
            "Epoch   2/100 Batch  960/3530 - Loss:  1.570, Seconds: 4.59\n",
            "Epoch   2/100 Batch  980/3530 - Loss:  1.962, Seconds: 5.03\n",
            "Epoch   2/100 Batch 1000/3530 - Loss:  1.711, Seconds: 6.00\n",
            "Epoch   2/100 Batch 1020/3530 - Loss:  1.708, Seconds: 5.14\n",
            "Epoch   2/100 Batch 1040/3530 - Loss:  1.657, Seconds: 5.25\n",
            "Epoch   2/100 Batch 1060/3530 - Loss:  1.583, Seconds: 5.06\n",
            "Epoch   2/100 Batch 1080/3530 - Loss:  1.753, Seconds: 6.34\n",
            "Epoch   2/100 Batch 1100/3530 - Loss:  1.780, Seconds: 5.69\n",
            "Epoch   2/100 Batch 1120/3530 - Loss:  1.694, Seconds: 5.70\n",
            "Epoch   2/100 Batch 1140/3530 - Loss:  1.599, Seconds: 5.28\n",
            "Epoch   2/100 Batch 1160/3530 - Loss:  1.596, Seconds: 5.01\n",
            "Average loss for this update: 1.727\n",
            "New Record!\n",
            "Epoch   2/100 Batch 1180/3530 - Loss:  1.608, Seconds: 5.78\n",
            "Epoch   2/100 Batch 1200/3530 - Loss:  1.870, Seconds: 5.75\n",
            "Epoch   2/100 Batch 1220/3530 - Loss:  1.744, Seconds: 5.25\n",
            "Epoch   2/100 Batch 1240/3530 - Loss:  1.559, Seconds: 6.18\n",
            "Epoch   2/100 Batch 1260/3530 - Loss:  1.677, Seconds: 5.64\n",
            "Epoch   2/100 Batch 1280/3530 - Loss:  1.592, Seconds: 5.03\n",
            "Epoch   2/100 Batch 1300/3530 - Loss:  1.824, Seconds: 5.87\n",
            "Epoch   2/100 Batch 1320/3530 - Loss:  1.701, Seconds: 5.67\n",
            "Epoch   2/100 Batch 1340/3530 - Loss:  1.598, Seconds: 5.72\n",
            "Epoch   2/100 Batch 1360/3530 - Loss:  1.642, Seconds: 5.07\n",
            "Epoch   2/100 Batch 1380/3530 - Loss:  1.579, Seconds: 7.89\n",
            "Epoch   2/100 Batch 1400/3530 - Loss:  1.915, Seconds: 4.78\n",
            "Epoch   2/100 Batch 1420/3530 - Loss:  1.705, Seconds: 5.61\n",
            "Epoch   2/100 Batch 1440/3530 - Loss:  1.617, Seconds: 5.68\n",
            "Epoch   2/100 Batch 1460/3530 - Loss:  1.566, Seconds: 6.88\n",
            "Epoch   2/100 Batch 1480/3530 - Loss:  1.697, Seconds: 5.29\n",
            "Epoch   2/100 Batch 1500/3530 - Loss:  1.787, Seconds: 5.66\n",
            "Epoch   2/100 Batch 1520/3530 - Loss:  1.802, Seconds: 5.92\n",
            "Epoch   2/100 Batch 1540/3530 - Loss:  1.531, Seconds: 6.27\n",
            "Epoch   2/100 Batch 1560/3530 - Loss:  1.562, Seconds: 6.01\n",
            "Epoch   2/100 Batch 1580/3530 - Loss:  1.894, Seconds: 6.59\n",
            "Epoch   2/100 Batch 1600/3530 - Loss:  1.839, Seconds: 5.42\n",
            "Epoch   2/100 Batch 1620/3530 - Loss:  1.604, Seconds: 6.03\n",
            "Epoch   2/100 Batch 1640/3530 - Loss:  1.634, Seconds: 6.01\n",
            "Epoch   2/100 Batch 1660/3530 - Loss:  1.789, Seconds: 6.07\n",
            "Epoch   2/100 Batch 1680/3530 - Loss:  1.882, Seconds: 5.80\n",
            "Epoch   2/100 Batch 1700/3530 - Loss:  1.819, Seconds: 5.21\n",
            "Epoch   2/100 Batch 1720/3530 - Loss:  1.629, Seconds: 6.13\n",
            "Epoch   2/100 Batch 1740/3530 - Loss:  1.657, Seconds: 6.11\n",
            "Epoch   2/100 Batch 1760/3530 - Loss:  1.857, Seconds: 5.61\n",
            "Epoch   2/100 Batch 1780/3530 - Loss:  1.815, Seconds: 6.26\n",
            "Epoch   2/100 Batch 1800/3530 - Loss:  1.630, Seconds: 5.70\n",
            "Epoch   2/100 Batch 1820/3530 - Loss:  1.702, Seconds: 5.75\n",
            "Epoch   2/100 Batch 1840/3530 - Loss:  1.895, Seconds: 5.30\n",
            "Epoch   2/100 Batch 1860/3530 - Loss:  1.783, Seconds: 6.37\n",
            "Epoch   2/100 Batch 1880/3530 - Loss:  1.643, Seconds: 12.31\n",
            "Epoch   2/100 Batch 1900/3530 - Loss:  1.675, Seconds: 6.52\n",
            "Epoch   2/100 Batch 1920/3530 - Loss:  1.946, Seconds: 5.83\n",
            "Epoch   2/100 Batch 1940/3530 - Loss:  1.713, Seconds: 7.78\n",
            "Epoch   2/100 Batch 1960/3530 - Loss:  1.673, Seconds: 6.31\n",
            "Epoch   2/100 Batch 1980/3530 - Loss:  1.755, Seconds: 6.40\n",
            "Epoch   2/100 Batch 2000/3530 - Loss:  1.836, Seconds: 5.56\n",
            "Epoch   2/100 Batch 2020/3530 - Loss:  1.775, Seconds: 6.93\n",
            "Epoch   2/100 Batch 2040/3530 - Loss:  1.588, Seconds: 6.18\n",
            "Epoch   2/100 Batch 2060/3530 - Loss:  1.895, Seconds: 6.69\n",
            "Epoch   2/100 Batch 2080/3530 - Loss:  1.802, Seconds: 6.20\n",
            "Epoch   2/100 Batch 2100/3530 - Loss:  1.628, Seconds: 6.17\n",
            "Epoch   2/100 Batch 2120/3530 - Loss:  1.730, Seconds: 5.29\n",
            "Epoch   2/100 Batch 2140/3530 - Loss:  1.867, Seconds: 6.25\n",
            "Epoch   2/100 Batch 2160/3530 - Loss:  1.693, Seconds: 6.35\n",
            "Epoch   2/100 Batch 2180/3530 - Loss:  1.659, Seconds: 5.23\n",
            "Epoch   2/100 Batch 2200/3530 - Loss:  1.906, Seconds: 6.39\n",
            "Epoch   2/100 Batch 2220/3530 - Loss:  1.767, Seconds: 6.15\n",
            "Epoch   2/100 Batch 2240/3530 - Loss:  1.657, Seconds: 6.16\n",
            "Epoch   2/100 Batch 2260/3530 - Loss:  1.886, Seconds: 6.83\n",
            "Epoch   2/100 Batch 2280/3530 - Loss:  1.757, Seconds: 7.14\n",
            "Epoch   2/100 Batch 2300/3530 - Loss:  1.603, Seconds: 7.30\n",
            "Epoch   2/100 Batch 2320/3530 - Loss:  1.756, Seconds: 6.74\n",
            "Epoch   2/100 Batch 2340/3530 - Loss:  1.944, Seconds: 6.08\n",
            "Average loss for this update: 1.734\n",
            "No Improvement.\n",
            "Epoch   2/100 Batch 2360/3530 - Loss:  1.664, Seconds: 6.80\n",
            "Epoch   2/100 Batch 2380/3530 - Loss:  1.835, Seconds: 6.20\n",
            "Epoch   2/100 Batch 2400/3530 - Loss:  1.876, Seconds: 6.97\n",
            "Epoch   2/100 Batch 2420/3530 - Loss:  1.739, Seconds: 6.40\n",
            "Epoch   2/100 Batch 2440/3530 - Loss:  1.872, Seconds: 6.80\n",
            "Epoch   2/100 Batch 2460/3530 - Loss:  1.900, Seconds: 5.71\n",
            "Epoch   2/100 Batch 2480/3530 - Loss:  1.679, Seconds: 6.45\n",
            "Epoch   2/100 Batch 2500/3530 - Loss:  1.829, Seconds: 11.59\n",
            "Epoch   2/100 Batch 2520/3530 - Loss:  1.858, Seconds: 6.27\n",
            "Epoch   2/100 Batch 2540/3530 - Loss:  1.625, Seconds: 8.34\n",
            "Epoch   2/100 Batch 2560/3530 - Loss:  1.886, Seconds: 6.91\n",
            "Epoch   2/100 Batch 2580/3530 - Loss:  1.731, Seconds: 14.73\n",
            "Epoch   2/100 Batch 2600/3530 - Loss:  1.668, Seconds: 6.64\n",
            "Epoch   2/100 Batch 2620/3530 - Loss:  1.940, Seconds: 6.42\n",
            "Epoch   2/100 Batch 2640/3530 - Loss:  1.657, Seconds: 6.92\n",
            "Epoch   2/100 Batch 2660/3530 - Loss:  1.867, Seconds: 7.74\n",
            "Epoch   2/100 Batch 2680/3530 - Loss:  1.800, Seconds: 7.88\n",
            "Epoch   2/100 Batch 2700/3530 - Loss:  1.772, Seconds: 7.34\n",
            "Epoch   2/100 Batch 2720/3530 - Loss:  1.908, Seconds: 7.23\n",
            "Epoch   2/100 Batch 2740/3530 - Loss:  1.689, Seconds: 13.74\n",
            "Epoch   2/100 Batch 2760/3530 - Loss:  1.950, Seconds: 14.09\n",
            "Epoch   2/100 Batch 2780/3530 - Loss:  1.727, Seconds: 6.59\n",
            "Epoch   2/100 Batch 2800/3530 - Loss:  1.936, Seconds: 9.18\n",
            "Epoch   2/100 Batch 2820/3530 - Loss:  1.839, Seconds: 7.50\n",
            "Epoch   2/100 Batch 2840/3530 - Loss:  1.948, Seconds: 10.66\n",
            "Epoch   2/100 Batch 2860/3530 - Loss:  1.717, Seconds: 8.03\n",
            "Epoch   2/100 Batch 2880/3530 - Loss:  1.894, Seconds: 7.78\n",
            "Epoch   2/100 Batch 2900/3530 - Loss:  1.898, Seconds: 7.25\n",
            "Epoch   2/100 Batch 2920/3530 - Loss:  1.958, Seconds: 14.72\n",
            "Epoch   2/100 Batch 2940/3530 - Loss:  1.817, Seconds: 6.22\n",
            "Epoch   2/100 Batch 2960/3530 - Loss:  1.963, Seconds: 6.59\n",
            "Epoch   2/100 Batch 2980/3530 - Loss:  1.908, Seconds: 8.21\n",
            "Epoch   2/100 Batch 3000/3530 - Loss:  1.921, Seconds: 8.17\n",
            "Epoch   2/100 Batch 3020/3530 - Loss:  1.928, Seconds: 7.91\n",
            "Epoch   2/100 Batch 3040/3530 - Loss:  2.055, Seconds: 7.48\n",
            "Epoch   2/100 Batch 3060/3530 - Loss:  1.906, Seconds: 7.36\n",
            "Epoch   2/100 Batch 3080/3530 - Loss:  1.992, Seconds: 7.96\n",
            "Epoch   2/100 Batch 3100/3530 - Loss:  2.029, Seconds: 8.57\n",
            "Epoch   2/100 Batch 3120/3530 - Loss:  1.831, Seconds: 7.88\n",
            "Epoch   2/100 Batch 3140/3530 - Loss:  1.884, Seconds: 8.52\n",
            "Epoch   2/100 Batch 3160/3530 - Loss:  1.816, Seconds: 9.36\n",
            "Epoch   2/100 Batch 3180/3530 - Loss:  1.879, Seconds: 8.23\n",
            "Epoch   2/100 Batch 3200/3530 - Loss:  1.999, Seconds: 8.56\n",
            "Epoch   2/100 Batch 3220/3530 - Loss:  1.913, Seconds: 7.90\n",
            "Epoch   2/100 Batch 3240/3530 - Loss:  1.906, Seconds: 8.18\n",
            "Epoch   2/100 Batch 3260/3530 - Loss:  1.854, Seconds: 7.89\n",
            "Epoch   2/100 Batch 3280/3530 - Loss:  1.990, Seconds: 6.81\n",
            "Epoch   2/100 Batch 3300/3530 - Loss:  1.953, Seconds: 9.41\n",
            "Epoch   2/100 Batch 3320/3530 - Loss:  1.997, Seconds: 8.88\n",
            "Epoch   2/100 Batch 3340/3530 - Loss:  1.968, Seconds: 7.96\n",
            "Epoch   2/100 Batch 3360/3530 - Loss:  1.995, Seconds: 8.68\n",
            "Epoch   2/100 Batch 3380/3530 - Loss:  2.023, Seconds: 8.70\n",
            "Epoch   2/100 Batch 3400/3530 - Loss:  1.949, Seconds: 8.65\n",
            "Epoch   2/100 Batch 3420/3530 - Loss:  1.883, Seconds: 8.84\n",
            "Epoch   2/100 Batch 3440/3530 - Loss:  1.913, Seconds: 7.87\n",
            "Epoch   2/100 Batch 3460/3530 - Loss:  2.090, Seconds: 8.21\n",
            "Epoch   2/100 Batch 3480/3530 - Loss:  1.978, Seconds: 9.36\n",
            "Epoch   2/100 Batch 3500/3530 - Loss:  2.009, Seconds: 8.99\n",
            "Epoch   2/100 Batch 3520/3530 - Loss:  1.977, Seconds: 9.16\n",
            "Average loss for this update: 1.883\n",
            "No Improvement.\n",
            "Epoch   3/100 Batch   20/3530 - Loss:  1.902, Seconds: 4.78\n",
            "Epoch   3/100 Batch   40/3530 - Loss:  1.674, Seconds: 4.71\n",
            "Epoch   3/100 Batch   60/3530 - Loss:  1.692, Seconds: 4.66\n",
            "Epoch   3/100 Batch   80/3530 - Loss:  1.680, Seconds: 4.97\n",
            "Epoch   3/100 Batch  100/3530 - Loss:  1.638, Seconds: 4.40\n",
            "Epoch   3/100 Batch  120/3530 - Loss:  1.614, Seconds: 5.16\n",
            "Epoch   3/100 Batch  140/3530 - Loss:  1.445, Seconds: 5.06\n",
            "Epoch   3/100 Batch  160/3530 - Loss:  1.529, Seconds: 4.95\n",
            "Epoch   3/100 Batch  180/3530 - Loss:  1.592, Seconds: 4.67\n",
            "Epoch   3/100 Batch  200/3530 - Loss:  1.712, Seconds: 4.45\n",
            "Epoch   3/100 Batch  220/3530 - Loss:  1.641, Seconds: 4.43\n",
            "Epoch   3/100 Batch  240/3530 - Loss:  1.561, Seconds: 5.03\n",
            "Epoch   3/100 Batch  260/3530 - Loss:  1.496, Seconds: 5.16\n",
            "Epoch   3/100 Batch  280/3530 - Loss:  1.409, Seconds: 4.27\n",
            "Epoch   3/100 Batch  300/3530 - Loss:  1.476, Seconds: 4.53\n",
            "Epoch   3/100 Batch  320/3530 - Loss:  1.512, Seconds: 3.98\n",
            "Epoch   3/100 Batch  340/3530 - Loss:  1.791, Seconds: 5.50\n",
            "Epoch   3/100 Batch  360/3530 - Loss:  1.716, Seconds: 5.59\n",
            "Epoch   3/100 Batch  380/3530 - Loss:  1.607, Seconds: 4.23\n",
            "Epoch   3/100 Batch  400/3530 - Loss:  1.460, Seconds: 4.51\n",
            "Epoch   3/100 Batch  420/3530 - Loss:  1.393, Seconds: 5.35\n",
            "Epoch   3/100 Batch  440/3530 - Loss:  1.464, Seconds: 6.01\n",
            "Epoch   3/100 Batch  460/3530 - Loss:  1.600, Seconds: 5.26\n",
            "Epoch   3/100 Batch  480/3530 - Loss:  1.695, Seconds: 4.78\n",
            "Epoch   3/100 Batch  500/3530 - Loss:  1.643, Seconds: 4.59\n",
            "Epoch   3/100 Batch  520/3530 - Loss:  1.607, Seconds: 5.48\n",
            "Epoch   3/100 Batch  540/3530 - Loss:  1.486, Seconds: 5.57\n",
            "Epoch   3/100 Batch  560/3530 - Loss:  1.503, Seconds: 5.03\n",
            "Epoch   3/100 Batch  580/3530 - Loss:  1.548, Seconds: 4.42\n",
            "Epoch   3/100 Batch  600/3530 - Loss:  1.576, Seconds: 5.77\n",
            "Epoch   3/100 Batch  620/3530 - Loss:  1.807, Seconds: 4.92\n",
            "Epoch   3/100 Batch  640/3530 - Loss:  1.682, Seconds: 5.47\n",
            "Epoch   3/100 Batch  660/3530 - Loss:  1.621, Seconds: 5.69\n",
            "Epoch   3/100 Batch  680/3530 - Loss:  1.510, Seconds: 4.93\n",
            "Epoch   3/100 Batch  700/3530 - Loss:  1.445, Seconds: 5.89\n",
            "Epoch   3/100 Batch  720/3530 - Loss:  1.452, Seconds: 6.34\n",
            "Epoch   3/100 Batch  740/3530 - Loss:  1.831, Seconds: 4.96\n",
            "Epoch   3/100 Batch  760/3530 - Loss:  1.763, Seconds: 4.62\n",
            "Epoch   3/100 Batch  780/3530 - Loss:  1.617, Seconds: 4.47\n",
            "Epoch   3/100 Batch  800/3530 - Loss:  1.470, Seconds: 4.71\n",
            "Epoch   3/100 Batch  820/3530 - Loss:  1.496, Seconds: 5.10\n",
            "Epoch   3/100 Batch  840/3530 - Loss:  1.523, Seconds: 5.90\n",
            "Epoch   3/100 Batch  860/3530 - Loss:  1.684, Seconds: 5.26\n",
            "Epoch   3/100 Batch  880/3530 - Loss:  1.683, Seconds: 4.71\n",
            "Epoch   3/100 Batch  900/3530 - Loss:  1.636, Seconds: 5.42\n",
            "Epoch   3/100 Batch  920/3530 - Loss:  1.606, Seconds: 5.59\n",
            "Epoch   3/100 Batch  940/3530 - Loss:  1.584, Seconds: 4.88\n",
            "Epoch   3/100 Batch  960/3530 - Loss:  1.453, Seconds: 4.50\n",
            "Epoch   3/100 Batch  980/3530 - Loss:  1.806, Seconds: 4.61\n",
            "Epoch   3/100 Batch 1000/3530 - Loss:  1.577, Seconds: 5.82\n",
            "Epoch   3/100 Batch 1020/3530 - Loss:  1.571, Seconds: 5.04\n",
            "Epoch   3/100 Batch 1040/3530 - Loss:  1.529, Seconds: 5.39\n",
            "Epoch   3/100 Batch 1060/3530 - Loss:  1.454, Seconds: 4.95\n",
            "Epoch   3/100 Batch 1080/3530 - Loss:  1.620, Seconds: 7.17\n",
            "Epoch   3/100 Batch 1100/3530 - Loss:  1.663, Seconds: 5.68\n",
            "Epoch   3/100 Batch 1120/3530 - Loss:  1.563, Seconds: 5.67\n",
            "Epoch   3/100 Batch 1140/3530 - Loss:  1.479, Seconds: 4.90\n",
            "Epoch   3/100 Batch 1160/3530 - Loss:  1.498, Seconds: 4.81\n",
            "Average loss for this update: 1.589\n",
            "New Record!\n",
            "Epoch   3/100 Batch 1180/3530 - Loss:  1.494, Seconds: 6.01\n",
            "Epoch   3/100 Batch 1200/3530 - Loss:  1.726, Seconds: 5.26\n",
            "Epoch   3/100 Batch 1220/3530 - Loss:  1.634, Seconds: 5.22\n",
            "Epoch   3/100 Batch 1240/3530 - Loss:  1.455, Seconds: 5.74\n",
            "Epoch   3/100 Batch 1260/3530 - Loss:  1.566, Seconds: 5.10\n",
            "Epoch   3/100 Batch 1280/3530 - Loss:  1.503, Seconds: 5.18\n",
            "Epoch   3/100 Batch 1300/3530 - Loss:  1.699, Seconds: 5.29\n",
            "Epoch   3/100 Batch 1320/3530 - Loss:  1.581, Seconds: 5.54\n",
            "Epoch   3/100 Batch 1340/3530 - Loss:  1.488, Seconds: 5.97\n",
            "Epoch   3/100 Batch 1360/3530 - Loss:  1.526, Seconds: 4.74\n",
            "Epoch   3/100 Batch 1380/3530 - Loss:  1.460, Seconds: 6.74\n",
            "Epoch   3/100 Batch 1400/3530 - Loss:  1.775, Seconds: 4.87\n",
            "Epoch   3/100 Batch 1420/3530 - Loss:  1.596, Seconds: 5.98\n",
            "Epoch   3/100 Batch 1440/3530 - Loss:  1.515, Seconds: 5.96\n",
            "Epoch   3/100 Batch 1460/3530 - Loss:  1.450, Seconds: 6.10\n",
            "Epoch   3/100 Batch 1480/3530 - Loss:  1.575, Seconds: 5.38\n",
            "Epoch   3/100 Batch 1500/3530 - Loss:  1.670, Seconds: 5.66\n",
            "Epoch   3/100 Batch 1520/3530 - Loss:  1.678, Seconds: 6.44\n",
            "Epoch   3/100 Batch 1540/3530 - Loss:  1.416, Seconds: 5.96\n",
            "Epoch   3/100 Batch 1560/3530 - Loss:  1.454, Seconds: 5.77\n",
            "Epoch   3/100 Batch 1580/3530 - Loss:  1.968, Seconds: 6.41\n",
            "Epoch   3/100 Batch 1600/3530 - Loss:  1.826, Seconds: 5.57\n",
            "Epoch   3/100 Batch 1620/3530 - Loss:  1.588, Seconds: 6.25\n",
            "Epoch   3/100 Batch 1640/3530 - Loss:  1.605, Seconds: 6.13\n",
            "Epoch   3/100 Batch 1660/3530 - Loss:  1.726, Seconds: 5.35\n",
            "Epoch   3/100 Batch 1680/3530 - Loss:  1.805, Seconds: 5.88\n",
            "Epoch   3/100 Batch 1700/3530 - Loss:  1.746, Seconds: 5.31\n",
            "Epoch   3/100 Batch 1720/3530 - Loss:  1.568, Seconds: 6.03\n",
            "Epoch   3/100 Batch 1740/3530 - Loss:  1.588, Seconds: 6.08\n",
            "Epoch   3/100 Batch 1760/3530 - Loss:  1.772, Seconds: 5.51\n",
            "Epoch   3/100 Batch 1780/3530 - Loss:  1.714, Seconds: 6.52\n",
            "Epoch   3/100 Batch 1800/3530 - Loss:  1.563, Seconds: 5.29\n",
            "Epoch   3/100 Batch 1820/3530 - Loss:  1.643, Seconds: 5.08\n",
            "Epoch   3/100 Batch 1840/3530 - Loss:  1.794, Seconds: 5.69\n",
            "Epoch   3/100 Batch 1860/3530 - Loss:  1.677, Seconds: 6.36\n",
            "Epoch   3/100 Batch 1880/3530 - Loss:  1.567, Seconds: 5.79\n",
            "Epoch   3/100 Batch 1900/3530 - Loss:  1.598, Seconds: 6.18\n",
            "Epoch   3/100 Batch 1920/3530 - Loss:  1.832, Seconds: 7.24\n",
            "Epoch   3/100 Batch 1940/3530 - Loss:  1.620, Seconds: 6.16\n",
            "Epoch   3/100 Batch 1960/3530 - Loss:  1.596, Seconds: 6.22\n",
            "Epoch   3/100 Batch 1980/3530 - Loss:  1.658, Seconds: 6.53\n",
            "Epoch   3/100 Batch 2000/3530 - Loss:  1.713, Seconds: 6.43\n",
            "Epoch   3/100 Batch 2020/3530 - Loss:  1.681, Seconds: 6.67\n",
            "Epoch   3/100 Batch 2040/3530 - Loss:  1.503, Seconds: 7.12\n",
            "Epoch   3/100 Batch 2060/3530 - Loss:  1.777, Seconds: 6.41\n",
            "Epoch   3/100 Batch 2080/3530 - Loss:  1.701, Seconds: 10.95\n",
            "Epoch   3/100 Batch 2100/3530 - Loss:  1.533, Seconds: 7.00\n",
            "Epoch   3/100 Batch 2120/3530 - Loss:  1.638, Seconds: 4.98\n",
            "Epoch   3/100 Batch 2140/3530 - Loss:  1.744, Seconds: 6.20\n",
            "Epoch   3/100 Batch 2160/3530 - Loss:  1.600, Seconds: 6.03\n",
            "Epoch   3/100 Batch 2180/3530 - Loss:  1.570, Seconds: 5.46\n",
            "Epoch   3/100 Batch 2200/3530 - Loss:  1.778, Seconds: 7.12\n",
            "Epoch   3/100 Batch 2220/3530 - Loss:  1.658, Seconds: 6.85\n",
            "Epoch   3/100 Batch 2240/3530 - Loss:  1.560, Seconds: 6.55\n",
            "Epoch   3/100 Batch 2260/3530 - Loss:  1.768, Seconds: 6.46\n",
            "Epoch   3/100 Batch 2280/3530 - Loss:  1.652, Seconds: 6.55\n",
            "Epoch   3/100 Batch 2300/3530 - Loss:  1.519, Seconds: 6.92\n",
            "Epoch   3/100 Batch 2320/3530 - Loss:  1.663, Seconds: 6.48\n",
            "Epoch   3/100 Batch 2340/3530 - Loss:  1.816, Seconds: 7.05\n",
            "Average loss for this update: 1.64\n",
            "No Improvement.\n",
            "Epoch   3/100 Batch 2360/3530 - Loss:  1.559, Seconds: 6.86\n",
            "Epoch   3/100 Batch 2380/3530 - Loss:  1.716, Seconds: 6.08\n",
            "Epoch   3/100 Batch 2400/3530 - Loss:  1.729, Seconds: 7.18\n",
            "Epoch   3/100 Batch 2420/3530 - Loss:  1.631, Seconds: 6.87\n",
            "Epoch   3/100 Batch 2440/3530 - Loss:  1.757, Seconds: 6.45\n",
            "Epoch   3/100 Batch 2460/3530 - Loss:  1.776, Seconds: 6.94\n",
            "Epoch   3/100 Batch 2480/3530 - Loss:  1.579, Seconds: 6.94\n",
            "Epoch   3/100 Batch 2500/3530 - Loss:  1.711, Seconds: 6.30\n",
            "Epoch   3/100 Batch 2520/3530 - Loss:  1.736, Seconds: 6.23\n",
            "Epoch   3/100 Batch 2540/3530 - Loss:  1.539, Seconds: 7.23\n",
            "Epoch   3/100 Batch 2560/3530 - Loss:  1.762, Seconds: 7.27\n",
            "Epoch   3/100 Batch 2580/3530 - Loss:  1.632, Seconds: 6.12\n",
            "Epoch   3/100 Batch 2600/3530 - Loss:  1.564, Seconds: 7.13\n",
            "Epoch   3/100 Batch 2620/3530 - Loss:  1.809, Seconds: 7.62\n",
            "Epoch   3/100 Batch 2640/3530 - Loss:  1.558, Seconds: 6.81\n",
            "Epoch   3/100 Batch 2660/3530 - Loss:  1.749, Seconds: 6.97\n",
            "Epoch   3/100 Batch 2680/3530 - Loss:  1.693, Seconds: 6.93\n",
            "Epoch   3/100 Batch 2700/3530 - Loss:  1.669, Seconds: 7.48\n",
            "Epoch   3/100 Batch 2720/3530 - Loss:  1.792, Seconds: 6.40\n",
            "Epoch   3/100 Batch 2740/3530 - Loss:  1.589, Seconds: 7.66\n",
            "Epoch   3/100 Batch 2760/3530 - Loss:  1.827, Seconds: 7.18\n",
            "Epoch   3/100 Batch 2780/3530 - Loss:  1.628, Seconds: 7.53\n",
            "Epoch   3/100 Batch 2800/3530 - Loss:  1.839, Seconds: 7.97\n",
            "Epoch   3/100 Batch 2820/3530 - Loss:  1.740, Seconds: 7.10\n",
            "Epoch   3/100 Batch 2840/3530 - Loss:  1.817, Seconds: 7.09\n",
            "Epoch   3/100 Batch 2860/3530 - Loss:  1.610, Seconds: 8.29\n",
            "Epoch   3/100 Batch 2880/3530 - Loss:  1.747, Seconds: 6.79\n",
            "Epoch   3/100 Batch 2900/3530 - Loss:  1.711, Seconds: 7.21\n",
            "Epoch   3/100 Batch 2920/3530 - Loss:  1.808, Seconds: 7.55\n",
            "Epoch   3/100 Batch 2940/3530 - Loss:  1.668, Seconds: 6.22\n",
            "Epoch   3/100 Batch 2960/3530 - Loss:  1.812, Seconds: 8.48\n",
            "Epoch   3/100 Batch 2980/3530 - Loss:  1.755, Seconds: 7.86\n",
            "Epoch   3/100 Batch 3000/3530 - Loss:  1.781, Seconds: 7.78\n",
            "Epoch   3/100 Batch 3020/3530 - Loss:  1.790, Seconds: 7.04\n",
            "Epoch   3/100 Batch 3040/3530 - Loss:  1.910, Seconds: 7.37\n",
            "Epoch   3/100 Batch 3060/3530 - Loss:  1.773, Seconds: 8.55\n",
            "Epoch   3/100 Batch 3080/3530 - Loss:  1.842, Seconds: 7.44\n",
            "Epoch   3/100 Batch 3100/3530 - Loss:  1.887, Seconds: 7.61\n",
            "Epoch   3/100 Batch 3120/3530 - Loss:  1.707, Seconds: 7.41\n",
            "Epoch   3/100 Batch 3140/3530 - Loss:  1.759, Seconds: 6.89\n",
            "Epoch   3/100 Batch 3160/3530 - Loss:  1.705, Seconds: 8.65\n",
            "Epoch   3/100 Batch 3180/3530 - Loss:  1.761, Seconds: 9.13\n",
            "Epoch   3/100 Batch 3200/3530 - Loss:  1.868, Seconds: 7.86\n",
            "Epoch   3/100 Batch 3220/3530 - Loss:  1.781, Seconds: 8.33\n",
            "Epoch   3/100 Batch 3240/3530 - Loss:  1.777, Seconds: 8.11\n",
            "Epoch   3/100 Batch 3260/3530 - Loss:  1.735, Seconds: 8.31\n",
            "Epoch   3/100 Batch 3280/3530 - Loss:  1.841, Seconds: 7.59\n",
            "Epoch   3/100 Batch 3300/3530 - Loss:  1.815, Seconds: 8.50\n",
            "Epoch   3/100 Batch 3320/3530 - Loss:  1.864, Seconds: 8.07\n",
            "Epoch   3/100 Batch 3340/3530 - Loss:  1.844, Seconds: 8.22\n",
            "Epoch   3/100 Batch 3360/3530 - Loss:  1.859, Seconds: 8.52\n",
            "Epoch   3/100 Batch 3380/3530 - Loss:  1.891, Seconds: 8.48\n",
            "Epoch   3/100 Batch 3400/3530 - Loss:  1.811, Seconds: 8.64\n",
            "Epoch   3/100 Batch 3420/3530 - Loss:  1.759, Seconds: 8.92\n",
            "Epoch   3/100 Batch 3440/3530 - Loss:  1.798, Seconds: 8.71\n",
            "Epoch   3/100 Batch 3460/3530 - Loss:  1.940, Seconds: 8.16\n",
            "Epoch   3/100 Batch 3480/3530 - Loss:  1.844, Seconds: 8.48\n"
          ],
          "name": "stdout"
        }
      ]
    },
    {
      "cell_type": "code",
      "metadata": {
        "id": "_5PLS2CMQytF",
        "colab_type": "code",
        "colab": {}
      },
      "source": [
        "def text_to_seq(text):\n",
        "    '''Prepare the text for the model'''\n",
        "    \n",
        "    text = clean_text(text)\n",
        "    return [vocab_to_int.get(word, vocab_to_int['<UNK>']) for word in text.split()]"
      ],
      "execution_count": 0,
      "outputs": []
    },
    {
      "cell_type": "code",
      "metadata": {
        "id": "oGYJbk1zcY7i",
        "colab_type": "code",
        "outputId": "91365d2f-6d8f-43e8-e173-b2b87d26b15f",
        "colab": {
          "base_uri": "https://localhost:8080/",
          "height": 224
        }
      },
      "source": [
        "# Create your own review or use one from the dataset\n",
        "#input_sentence = \"I have never eaten an apple before, but this red one was nice. \\\n",
        "                  #I think that I will try a green apple next time.\"\n",
        "#text = text_to_seq(input_sentence)\n",
        "random = np.random.randint(0,len(clean_texts))\n",
        "input_sentence = clean_texts[random]\n",
        "text = text_to_seq(clean_texts[random])\n",
        "\n",
        "checkpoint = \"gdrive/My Drive/Colab Notebooks/Menu/Model 300/best_model.ckpt\"\n",
        "\n",
        "loaded_graph = tf.Graph()\n",
        "with tf.Session(graph=loaded_graph) as sess:\n",
        "    # Load saved model\n",
        "    loader = tf.train.import_meta_graph(checkpoint + '.meta')\n",
        "    loader.restore(sess, checkpoint)\n",
        "\n",
        "    input_data = loaded_graph.get_tensor_by_name('input:0')\n",
        "    logits = loaded_graph.get_tensor_by_name('predictions:0')\n",
        "    text_length = loaded_graph.get_tensor_by_name('text_length:0')\n",
        "    summary_length = loaded_graph.get_tensor_by_name('summary_length:0')\n",
        "    keep_prob = loaded_graph.get_tensor_by_name('keep_prob:0')\n",
        "    \n",
        "    #Multiply by batch_size to match the model's input parameters\n",
        "    answer_logits = sess.run(logits, {input_data: [text]*batch_size, \n",
        "                                      summary_length: [np.random.randint(5,8)], \n",
        "                                      text_length: [len(text)]*batch_size,\n",
        "                                      keep_prob: 1.0})[0] \n",
        "\n",
        "# Remove the padding from the tweet\n",
        "pad = vocab_to_int[\"<PAD>\"] \n",
        "\n",
        "print('Original Text:', reviews.Text[random])\n",
        "print('Original summary:', reviews.Summary[random])#clean_summaries[random]\n",
        "\n",
        "print('\\nText')\n",
        "print('  Word Ids:    {}'.format([i for i in text]))\n",
        "print('  Input Words: {}'.format(\" \".join([int_to_vocab[i] for i in text])))\n",
        "\n",
        "print('\\nSummary')\n",
        "print('  Word Ids:       {}'.format([i for i in answer_logits if i != pad]))\n",
        "print('  Response Words: {}'.format(\" \".join([int_to_vocab[i] for i in answer_logits if i != pad])))"
      ],
      "execution_count": 0,
      "outputs": [
        {
          "output_type": "stream",
          "text": [
            "INFO:tensorflow:Restoring parameters from gdrive/My Drive/Colab Notebooks/Menu/Model 300/best_model.ckpt\n",
            "Original Text: These chips are really great tasting especially for a healthy version.  These are the best tasting healthy chips I have ever had.  They are really addicting!  You save money by buying on Amazon too!\n",
            "Original summary: Veggie Chips\n",
            "\n",
            "Text\n",
            "  Word Ids:    [449, 380, 13, 276, 1804, 24, 1010, 25, 276, 24, 449, 167, 380, 1281, 1706, 424, 741, 301]\n",
            "  Input Words: chips really great tasting especially healthy version best tasting healthy chips ever really addicting save money buying amazon\n",
            "\n",
            "Summary\n",
            "  Word Ids:       [259, 449]\n",
            "  Response Words: excellent chips\n"
          ],
          "name": "stdout"
        }
      ]
    }
  ]
}